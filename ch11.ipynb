{
 "cells": [
  {
   "cell_type": "markdown",
   "metadata": {},
   "source": [
    "# 11. Markov chains"
   ]
  },
  {
   "cell_type": "markdown",
   "metadata": {},
   "source": [
    "## Brief summary\n",
    "\n",
    "### Markov chain\n",
    "\n",
    "A sequence of random variables $X_0, X_1, X_2, ...$ taking values in the *state space* ${1, 2, ..., M}$ is called a *Markov chain* if for all $n \\geq 0$,\n",
    "\n",
    "\\begin{equation}\n",
    "P(X_{n+1}=j|X_n=i, X_{n-1}=i_{n-1}, ..., X_0=i_0) = P(X_{n+1}=j|X_n=i).\n",
    "\\end{equation}\n",
    "\n",
    "The quantity $P(X_{n+1}=j|X_n=i)$ is called the *transition probability* from state $i$ to state $j$. When referring to a Markov chain we will implicitly assume that it is *time-homogeneous*, which means that the transition probability $P(X_{n+1}=j|X_n=i)$ is the same for all times $n$.\n",
    "\n",
    "The above condition is called the *Markov property*, and it says that given the entire past history $X_0, X_1, X_2, ..., X_n$, only the *most recent* term, $X_n$, matters for predicting $X_{n+1}$. \n",
    "\n",
    "#### Transition matrix\n",
    "\n",
    "Let $X_0, X_1, X_2, ...$ be a Markov chain with state space ${1, 2, ..., M}$, and let $q_{ij} = P(X_{n+1}=j|X_n=i)$ be the transition probability from state $i$ to state $j$. The $M \\times M$ matrix $Q = (q_{ij})$ is called the *transition matrix* of the chain.\n",
    "\n",
    "Note that $Q$ is a nonnegative matrix in which each row sums to $1$.\n",
    "\n",
    "#### *n*-step transition probability\n",
    "\n",
    "The *n*-step transition probability from $i$ to $j$ is the probability of being at $j$ exactly $n$ steps after being at $i$. We denote this by $q_{ij}^{(n)}$:\n",
    "\n",
    "\\begin{equation}\n",
    "q_{ij}^{(n)} = P(X_n=j|X_0=i).\n",
    "\\end{equation}\n",
    "\n",
    "Note that $q_{ij}^{(2)} = \\sum_k q_{ik}q_{kj}$ since to get from $i$ to $j$ in two steps, the chain must go from $i$ to some intermediary state $k$, and then from $k$ to $j$; these transitions are independent because of the Markov property.\n",
    "\n",
    "#### Marginal distribution of $X_n$\n",
    "\n",
    "Define $\\boldsymbol{t} = (t_1, t_2, ..., t_M)$ by $t_i = P(X_0=i)$, and view $\\boldsymbol{t}$ as a row vector. Then the marginal distribution of $X_n$ is given by the vector $\\boldsymbol{t}Q^n$. That is, the $j$th component of $\\boldsymbol{t}Q^n$ is $P(X_n=j)$.\n",
    "\n",
    "\n",
    "### Classification of states\n",
    "\n",
    "#### Recurrent and transient states\n",
    "\n",
    "State $i$ of a Markov chain is *recurrent* if starting from $i$, the probability is $1$ that the chain will eventually return to $i$. Otherwise, the state is *transient*, which means that if the chain starts from $i$, there is a positive probability of never returning to $i$.\n",
    "\n",
    "##### Number of returns to transient state is Geometric\n",
    "\n",
    "Let $i$ be a transient state of a Markov chain. Suppose the probability of never returning to $i$, starting from $i$, is a positive number $p > 0$. Then, starting from $i$, the number of times that the chain returns to $i$ before leaving forever is distributed $Geom(p)$.\n",
    "\n",
    "#### Irreducible and reducible chain\n",
    "\n",
    "A Markov chain with transition matrix $Q$ is *irreducible* if for any two states $i$ and $j$, it is possible to go from $i$ to $j$ in a finite number of steps (with positive probability). That is, for any states $i$, $j$ there is some positive integer $n$ such that the $(i, j)$ entry of $Q^n$ is positive. A Markov chain that is not irreducible is called *reducible*.\n",
    "\n",
    "##### Irreducible implies all states recurrent\n",
    "\n",
    "In an irreducible Markov chain with a finite state space, all states are recurrent.\n",
    "\n",
    "#### Period of a state, periodic and aperiodic chain\n",
    "\n",
    "The *period* of a state $i$ in a Markov chain is the greatest common divisor (gcd) of the possible numbers of steps it can take to return to $i$ when starting at $i$. That is, the period of $i$ is the greatest common divisor of numbers $n$ such that the $(i,i)$ entry of $Q^n$ is positive. (The period of $i$ is undefined if it's impossible ever to return to $i$ after starting at $i$.) A state is called *aperiodic* if its period equals $1$, and *periodic* otherwise. The chain itself is called *aperiodic* if all its states are aperiodic, and *periodic* otherwise.\n",
    "\n",
    "\n",
    "### Stationary distribution\n",
    "\n",
    "A row vector $\\boldsymbol{s} = (s_1, ..., s_M)$ such that $s_i \\geq 0$ and $\\sum_i s_i = 1$ is a *stationary distribution* for a Markov chain with transition matrix $Q$ if \n",
    "\n",
    "\\begin{equation}\n",
    "\\sum_i s_iq_{ij} = s_j\n",
    "\\end{equation}\n",
    "\n",
    "for all $j$, or equivalently,\n",
    "\n",
    "\\begin{equation}\n",
    "\\boldsymbol{s}Q = \\boldsymbol{s}.\n",
    "\\end{equation}\n",
    "\n",
    "If $\\boldsymbol{s}$ is the distribution of $X_0$, then $\\boldsymbol{s}Q$ is the marginal distribution of $X_1$. A Markov chain whose initial distribution is the stationary distribution $\\boldsymbol{s}$ will stay in the stationary distribution forever.\n",
    "\n",
    "#### Existence and uniqueness of stationary distribution\n",
    "\n",
    "Any irreducible Markov chain has a unique stationary distribution. In this distribution, every state has positive probability.\n",
    "\n",
    "#### Convergence to a stationary distribution\n",
    "\n",
    "Let $X_0, X_1, ...$ be a Markov chain with stationary distribution $\\boldsymbol{s}$ and transition matrix $Q$, such that some power $Q^m$ is positive in all entries. (These assumptions are equivalent to assuming that the chain is irreducible and aperiodic.) Then $P(X_n = i)$ converges to $s_i$ as $n \\to \\infty$. In terms of the transition matrix, $Q^n$ converges to a matrix in which each row is $\\boldsymbol{s}$.\n",
    "\n",
    "#### Expected time to return\n",
    "\n",
    "Let $X_0, X_1, ...$ be an irreducible Markov chain with stationary distribution $\\boldsymbol{s}$. Let $r_i$ be the expected time it takes the chain to return to $i$, given that it starts at $i$. Then $s_i = 1/r_i$.\n",
    "\n",
    "\n",
    "### Reversibility\n",
    "\n",
    "Let $Q = (q_{ij})$ be the transition matrix of a Markov chain. Suppose there is $\\boldsymbol{s} = (s_1, ..., s_M)$ with $s_i \\geq 0$, $\\sum_i s_i = 1$, such that\n",
    "\n",
    "\\begin{equation}\n",
    "s_iq_{ij} = s_jq_{ji}\n",
    "\\end{equation}\n",
    "\n",
    "for all states $i$ and $j$. This equation is called the *reversibility* or *detailed balance* condition, and we say that the chain is *reversible* with respect to $\\boldsymbol{s}$ if it holds.\n",
    "\n",
    "#### Reversible implies stationary\n",
    "\n",
    "Suppose that $Q = (q_{ij})$ is a transition matrix of a Markov chain that is reversible with respect to a nonnegative vector $\\boldsymbol{s} = (s_1, ..., s_M)$ whose components sum to $1$. Then $\\boldsymbol{s}$ is a stationary distribution of the chain.\n",
    "\n",
    "If each column of the transition matrix $Q$ sums to 1, then the uniform distribution over all states, $(1/M, 1/M, ..., 1/M)$, is a stationary distribution. (A nonnegative matrix such that the row sums and the column sums are all equal to $1$ is called a *doubly stochastic matrix*.)\n",
    "\n",
    "\n",
    "## Python examples"
   ]
  },
  {
   "cell_type": "code",
   "execution_count": 1,
   "metadata": {},
   "outputs": [],
   "source": [
    "import numpy as np\n",
    "import matplotlib.pyplot as plt\n",
    "from scipy.stats import expon, binom, uniform, chi2, t, norm\n",
    "from numpy.random import choice\n",
    "from numpy.linalg import matrix_power\n",
    "\n",
    "%matplotlib inline\n",
    "%load_ext autoreload\n",
    "%autoreload 2"
   ]
  },
  {
   "cell_type": "markdown",
   "metadata": {},
   "source": [
    "### Matrix calculations"
   ]
  },
  {
   "cell_type": "code",
   "execution_count": 2,
   "metadata": {},
   "outputs": [],
   "source": [
    "# Specify the transition matrix Q\n",
    "Q = np.array([[1/3., 1/3., 1/3., 0],\n",
    "                      [0, 0, 1/2., 1/2.],\n",
    "                      [0, 1, 0, 0],\n",
    "                      [1/2., 0, 0, 1/2.]],\n",
    "                     dtype=np.float)"
   ]
  },
  {
   "cell_type": "code",
   "execution_count": 3,
   "metadata": {
    "collapsed": true
   },
   "outputs": [],
   "source": [
    "Q2 = np.matmul(Q, Q)\n",
    "Q3 = np.matmul(Q2, Q)\n",
    "Q4 = np.matmul(Q2, Q2)\n",
    "Q5 = np.matmul(Q3, Q2)"
   ]
  },
  {
   "cell_type": "code",
   "execution_count": 4,
   "metadata": {},
   "outputs": [
    {
     "name": "stdout",
     "output_type": "stream",
     "text": [
      "0.229166666667\n"
     ]
    }
   ],
   "source": [
    "print(Q5[2, 3])   # the probability of going from state 2 to state 3 in exactly 5 steps"
   ]
  },
  {
   "cell_type": "code",
   "execution_count": 5,
   "metadata": {},
   "outputs": [
    {
     "name": "stdout",
     "output_type": "stream",
     "text": [
      "[[ 0.21428573  0.28571434  0.21428567  0.28571426]\n",
      " [ 0.21428581  0.28571476  0.21428534  0.28571409]\n",
      " [ 0.21428559  0.28571363  0.21428623  0.28571455]\n",
      " [ 0.21428571  0.28571426  0.21428573  0.2857143 ]]\n"
     ]
    }
   ],
   "source": [
    "print(matrix_power(Q, 42))   # Q^n -> s as n -> \\infty"
   ]
  },
  {
   "cell_type": "markdown",
   "metadata": {},
   "source": [
    "### Gambler's ruin"
   ]
  },
  {
   "cell_type": "code",
   "execution_count": 6,
   "metadata": {
    "collapsed": true
   },
   "outputs": [],
   "source": [
    "# N: The total amount of money\n",
    "# p: The probability of gambler A winning a given round\n",
    "N = 10\n",
    "p = 1/2.\n",
    "nsim = 80"
   ]
  },
  {
   "cell_type": "code",
   "execution_count": 7,
   "metadata": {},
   "outputs": [],
   "source": [
    "# Allocate a vector of length nsim called X\n",
    "X = np.zeros(nsim, dtype=np.int)\n",
    "X[0] = 5   # Set the first entry of X equal to 5: initial condition"
   ]
  },
  {
   "cell_type": "code",
   "execution_count": 8,
   "metadata": {
    "collapsed": true
   },
   "outputs": [],
   "source": [
    "# Simulate the subsequent values of the Markov chain\n",
    "for i in range(1, nsim):\n",
    "    if X[i-1] == 0 or X[i-1] == N:\n",
    "        X[i] = X[i-1]   # end condition\n",
    "    else:\n",
    "        X[i] = X[i-1] + choice([1, -1], size=1, p=[p, 1-p])   # sample to move to the right 1 or left 1"
   ]
  },
  {
   "cell_type": "code",
   "execution_count": 9,
   "metadata": {},
   "outputs": [
    {
     "data": {
      "text/plain": [
       "(0, 10)"
      ]
     },
     "execution_count": 9,
     "metadata": {},
     "output_type": "execute_result"
    },
    {
     "data": {
      "image/png": "[encoded data removed]",
      "text/plain": [
       "<matplotlib.figure.Figure at 0x104704250>"
      ]
     },
     "metadata": {},
     "output_type": "display_data"
    }
   ],
   "source": [
    "plt.figure(figsize=(10, 5))\n",
    "_ = plt.plot(np.arange(nsim), X)\n",
    "plt.ylim(0, N)"
   ]
  },
  {
   "cell_type": "markdown",
   "metadata": {},
   "source": [
    "### Simulating from a finite-state Markov chain"
   ]
  },
  {
   "cell_type": "code",
   "execution_count": 10,
   "metadata": {
    "collapsed": true
   },
   "outputs": [],
   "source": [
    "# Specify the transition matrix Q\n",
    "Q = np.array([[1/3., 1/3., 1/3., 0],\n",
    "                      [0, 0, 1/2., 1/2.],\n",
    "                      [0, 1, 0, 0],\n",
    "                      [1/2., 0, 0, 1/2.]],\n",
    "                     dtype=np.float)"
   ]
  },
  {
   "cell_type": "code",
   "execution_count": 11,
   "metadata": {
    "collapsed": true
   },
   "outputs": [],
   "source": [
    "# Choose the number of time perios to simulate, \n",
    "# and choose initial conditions for the chain\n",
    "M = Q.shape[0]\n",
    "nsim = 10**4\n",
    "X = np.zeros(nsim, dtype=np.int)\n",
    "X[0] = choice(M, size=1)"
   ]
  },
  {
   "cell_type": "code",
   "execution_count": 12,
   "metadata": {
    "collapsed": true
   },
   "outputs": [],
   "source": [
    "# Simulate the subsequent values of the Markov chain\n",
    "for i in range(1, nsim):\n",
    "    X[i] = choice(M, size=1, p=Q[X[i-1]])"
   ]
  },
  {
   "cell_type": "code",
   "execution_count": 13,
   "metadata": {},
   "outputs": [
    {
     "name": "stdout",
     "output_type": "stream",
     "text": [
      "[0 1 2 3]\n",
      "[ 0.2084  0.29    0.2188  0.2828]\n"
     ]
    }
   ],
   "source": [
    "# To check if the chain is close to stationarity during the latter portion of the simulation,\n",
    "# eliminate the first half of the simulations to give the chain time to reach stationarity:\n",
    "X_latter = X[nsim/2:]\n",
    "val, counts = np.unique(X_latter, return_counts=True)\n",
    "print(val)\n",
    "print(counts / float(X_latter.shape[0]))"
   ]
  }
 ],
 "metadata": {
  "kernelspec": {
   "display_name": "Python 2",
   "language": "python",
   "name": "python2"
  },
  "language_info": {
   "codemirror_mode": {
    "name": "ipython",
    "version": 2
   },
   "file_extension": ".py",
   "mimetype": "text/x-python",
   "name": "python",
   "nbconvert_exporter": "python",
   "pygments_lexer": "ipython2",
   "version": "2.7.12"
  }
 },
 "nbformat": 4,
 "nbformat_minor": 2
}
