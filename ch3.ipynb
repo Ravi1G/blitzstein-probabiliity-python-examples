{
 "cells": [
  {
   "cell_type": "markdown",
   "metadata": {},
   "source": [
    "# 3. Random variables and their distributions"
   ]
  },
  {
   "cell_type": "markdown",
   "metadata": {},
   "source": [
    "## Brief summary\n",
    "\n",
    "### Random variable\n",
    "\n",
    "Given an experiment with sample space $S$, a *random variable* (r.v.) is a function from the sample space $S$ to the real numbers $\\mathbb{R}$. It is common, but not required, to denote random variables by capital letters.\n",
    "\n",
    "Thus, a random variable $X$ assigns a numerical value $X(s)$ to each possible outcome $s$ of the experiment. The randomness comes from the fact that we have a random experiment (with probabilities described by the probability function P); the mapping itself is deterministic.\n",
    "\n",
    "### Discrete random variable\n",
    "\n",
    "A random variable $X$ is said to be *discrete* if there is a finite list of values $a_1, a_2, ..., a_n$ or an infinite list of values $a_1, a_2, ...$ such that $P(X = a_j$ for some $j) = 1$. If $X$ is a discrete r.v., then the finite or countably infinite set of values $x$ such that $P(X=x) > 0$ is called the *support* of $X$.\n",
    "\n",
    "### Probability mass function\n",
    "\n",
    "The *probability mass function* (PMF) of a discrete r.v. $X$ is the function $p_X$ given by $p_X(x) = P(X=x)$. Note that this is positive if $x$ is in the support of $X$, and 0 otherwise.\n",
    "\n",
    "#### Valid PMFs\n",
    "\n",
    "Let $X$ be a discrete r.v. with support $x_1, x_2, ...$ (assume these values are distinct and, for notational simplicity, that the support is countably infinite; the analogous results hold if the support is finite). The PMF $p_X$ of $X$ must satisfy the following two criteria:\n",
    "\n",
    "- Nonnegative: $p_X(x) > 0$ if $x=x_j$ for some $j$, and $p_X(x) = 0$ otherwise;\n",
    "- Sums to 1: $\\sum_{j=1}^\\infty p_X(x_j) = 1$\n",
    "\n",
    "### Bernoulli distribution\n",
    "\n",
    "An r.v. $X$ is said to have the *Bernoulli distribution* with parameter $p$ if $P(X=1) = p$ and $P(X=0) = 1 - p$, where $0 < p < 1$. We write this as $X \\sim Bern(p)$. The symbol $\\sim$ is read \"is distributed as\".\n",
    "\n",
    "#### Indicator random variable\n",
    "\n",
    "The *indicator random variable* of an event $A$ is the r.v. which equals $1$ if $A$ occurs and $0$ otherwise. We will denote the indicator r.v. of $A$ by $I_A$ or $I(A)$. Note that $I_A \\sim Bern(p)$ with $p = P(A)$.\n",
    "\n",
    "### Binomial PMF\n",
    "\n",
    "If $X \\sim Bin(n,p)$, then the PMF of $X$ is\n",
    "\n",
    "\\begin{equation}\n",
    "P(X=k) = {{N}\\choose{k}}p^k(1-p)^{n-k}\n",
    "\\end{equation}\n",
    "\n",
    "for $k = 0, 1, ..., n$ (and $P(X=k) = 0$ otherwise).\n",
    "\n",
    "### Hypergeometric PMF\n",
    "\n",
    "If $X \\sim HGeom(w,b,n)$, then the PMF of $X$ is \n",
    "\n",
    "\\begin{equation}\n",
    "P(X=k) = \\frac{ {{w}\\choose{k}} {{b}\\choose{n-k}} } { {{w+b}\\choose{n}} }\n",
    "\\end{equation}\n",
    "\n",
    "for integers $k$ satisfying $0 \\leq k \\leq w$ and $0 \\leq n-k \\leq b$, and $P(X=k)=0$ otherwise.\n",
    "\n",
    "### Discrete Uniform distribution\n",
    "\n",
    "Let $C$ be a finite, nonempty set of numbers. Choose one of these numbers uniformly at random (i.e., all values in $C$ are equally likely). Call the chosen number $X$. Then $X$ is said to have the *Discrete Uniform distribution* with parameter $C$; we denote this by $X \\sim DUnif(C)$.\n",
    "\n",
    "The PMF of $X \\sim DUnif(C)$ is\n",
    "\n",
    "\\begin{equation}\n",
    "P(X=x) = \\frac{1} {|C|}\n",
    "\\end{equation}\n",
    "\n",
    "for $x \\in C$ (and $0$ otherwise). For $X \\sim DUnif(C)$ and any $A \\subseteq C$, we have\n",
    "\n",
    "\\begin{equation}\n",
    "P(X \\in A) = \\frac{|A|} {|C|}.\n",
    "\\end{equation}\n",
    "\n",
    "\n",
    "### Cumulative distribution function\n",
    "\n",
    "The *cumulative distribution function* (CDF) of an r.v. $X$ is the function $F_X$ given by $F_X(x) = P(X \\leq x)$. When there is no risk of ambiguity, we sometimes drop the subscript and just write $F$ (or some other letter) for a CDF.\n",
    "\n",
    "#### Valid CDFs\n",
    "\n",
    "Any CDF $F$ has the following properties.\n",
    "\n",
    "- Increasing: If $x_1 \\leq x_2$, then $F(x_1) \\leq F(x_2)$.\n",
    "- Right-continuous: The CDF is continuous except possibly for having some jumps. Wherever there is a jump, the CDF is continuous from the right. That is, for any $a$, we have\n",
    "\n",
    "\\begin{equation}\n",
    "F(a) = \\lim_{x \\to -\\infty} F(x).\n",
    "\\end{equation}\n",
    "\n",
    "- Convergence to $0$ and $1$ in the limits:\n",
    "\n",
    "\\begin{equation}\n",
    "\\lim_{x \\to -\\infty} F(x) = 0\\ {and}\\ \\lim_{x \\to \\infty} F(x) = 1.\n",
    "\\end{equation}\n",
    "\n",
    "### Function of an r.v.\n",
    "\n",
    "For an experiment with sample space $S$, an r.v. $X$, and a function $g: \\mathbb{R} \\to \\mathbb{R}$, $g(X)$ is the r.v. that maps $s$ to $g(X(s))$ for all $s \\in S$.\n",
    "\n",
    "#### PMF of g(X)\n",
    "\n",
    "Let $X$ be a discrete r.v. and $g:\\mathbb{R} \\to \\mathbb{R}$. Then the support of $g(X)$ is the set of all $y$ such that $g(x) = y$ for at least one $x$ in the support of $X$, and the PMF of $g(X)$ is\n",
    "\n",
    "\\begin{equation}\n",
    "P(g(x)=y) = \\sum_{x:g(x)=y} P(X=x)\n",
    "\\end{equation}\n",
    "\n",
    "for all $y$ in the support of $g(X)$.\n",
    "\n",
    "#### Function of two r.v.s\n",
    "\n",
    "Given an experiment with sample space $S$, if $X$ and $Y$ are r.v.s that map $s \\in S$ to $X(s)$ and $Y(s)$ respectively, then $g(X,Y)$ is the r.v. that maps $s$ to $g(X(s),Y(s))$.\n",
    "\n",
    "### Independence of two r.v.s\n",
    "\n",
    "Random variables $X$ and $Y$ are said to be *independent* if\n",
    "\n",
    "\\begin{equation}\n",
    "P(X \\leq x, Y \\leq y) = P(X \\leq x)P(Y \\leq y),\n",
    "\\end{equation}\n",
    "\n",
    "for all $x, y \\in \\mathbb{R}$. In the discrete case, this is equivalent to the condition\n",
    "\n",
    "\\begin{equation}\n",
    "P(X=x, Y=y) = P(X=x)P(Y=y)\n",
    "\\end{equation}\n",
    "\n",
    "for all $x, y$ with $x$ in the support of $X$ and $y$ in the support of $Y$.\n",
    "\n",
    "#### Independence of many r.v.s\n",
    "\n",
    "Random variables $X_1, ..., X_n$ are *independent* if\n",
    "\n",
    "\\begin{equation}\n",
    "P(X_1 \\leq x_1, X_n \\leq x_n) = P(X_1 \\leq x_1)...P(X_n \\leq x_n),\n",
    "\\end{equation}\n",
    "\n",
    "for all $x_1, ..., x_n \\in \\mathbb{R}$. For infinitely many r.v.s, we say that they are independent if every finite subset of the r.v.s is independent.\n",
    "\n",
    "#### i.i.d.\n",
    "\n",
    "Random variables that are independent and have the same distribution are called *independent and identically distributed*, or *i.i.d.* for short.\n",
    "\n",
    "### Conditional independency of r.v.s\n",
    "\n",
    "Random variables $X$ and $Y$ are *conditionally independent* given an r.v. $Z$ if for all $x,y \\in \\mathbb{R}$ and all $z$ in the support of $Z$,\n",
    "\n",
    "\\begin{equation}\n",
    "P(X \\leq x, Y \\leq y|Z = z) = P(X \\leq x|Z = z)P(Y \\leq y|Z = z)\n",
    "\\end{equation}\n",
    "\n",
    "For discrete r.v.s, an equivalent definition is to require\n",
    "\n",
    "\\begin{equation}\n",
    "P(X = x, Y = y|Z = z) = P(X = x|Z = z)P(Y = y|Z = z)\n",
    "\\end{equation}\n",
    "\n",
    "#### Conditional PMF\n",
    "\n",
    "For any discrete r.v.s $X$ and $Z$, the function $P(X=x|Z=z)$, when considered as a function of $x$ for fixed $z$, is called the *conditional PMF of $X$ given $Z = z$*.\n",
    "\n",
    "\n",
    "\n",
    "## Python examples"
   ]
  },
  {
   "cell_type": "code",
   "execution_count": 8,
   "metadata": {},
   "outputs": [
    {
     "name": "stdout",
     "output_type": "stream",
     "text": [
      "The autoreload extension is already loaded. To reload it, use:\n",
      "  %reload_ext autoreload\n"
     ]
    }
   ],
   "source": [
    "import numpy as np\n",
    "from scipy.stats import binom, hypergeom\n",
    "from numpy.random import choice\n",
    "from numpy.random import permutation\n",
    "\n",
    "%matplotlib inline\n",
    "%load_ext autoreload\n",
    "%autoreload 2"
   ]
  },
  {
   "cell_type": "markdown",
   "metadata": {},
   "source": [
    "### Binomial distribution\n",
    "\n",
    "\\begin{equation}\n",
    "P(X=k) = {{N}\\choose{k}}p^k(1-p)^{n-k}\n",
    "\\end{equation}"
   ]
  },
  {
   "cell_type": "code",
   "execution_count": 7,
   "metadata": {},
   "outputs": [
    {
     "name": "stdout",
     "output_type": "stream",
     "text": [
      "0.0512\n",
      "[ 0.32768  0.4096   0.2048   0.0512   0.0064 ]\n",
      "0.99328\n",
      "[2 1 2 2 0 1 1]\n"
     ]
    }
   ],
   "source": [
    "x, n, p = 3, 5, 0.2\n",
    "print(binom.pmf(x, n, p))   # PMF\n",
    "print(binom.pmf(np.arange(5), n, p))    # PMF for multiple values\n",
    "print(binom.cdf(x, n, p))     # CDF\n",
    "print(binom.rvs(n, p, size=7))    # Generating Binomial r.v.s"
   ]
  },
  {
   "cell_type": "markdown",
   "metadata": {},
   "source": [
    "### Hypergeometric distribution\n",
    "\n",
    "\\begin{equation}\n",
    "P(X=k) = \\frac{ {{w}\\choose{k}} {{b}\\choose{n-k}} } { {{w+b}\\choose{n}} }\n",
    "\\end{equation}"
   ]
  },
  {
   "cell_type": "code",
   "execution_count": 19,
   "metadata": {},
   "outputs": [
    {
     "name": "stdout",
     "output_type": "stream",
     "text": [
      "0.286068111455\n",
      "[  1.03199174e-04   4.33436533e-03   4.76780186e-02   1.98658411e-01\n",
      "   3.57585139e-01]\n",
      "0.894427244582\n",
      "[3 5 5 4 3 5 5 5 5 5]\n"
     ]
    }
   ],
   "source": [
    "x, n, w, b = 5, 12, 7, 13\n",
    "print(hypergeom.pmf(x, w+b, w, n))\n",
    "print(hypergeom.pmf(np.arange(5), w+b, w, n))\n",
    "print(hypergeom.cdf(x, w+b, w, n))\n",
    "print(hypergeom.rvs(w+b, w, n, size=10))"
   ]
  },
  {
   "cell_type": "markdown",
   "metadata": {},
   "source": [
    "### Discrete distributions with finite support\n",
    "\n",
    "Generating realizations of i.i.d r.v.s $X_1, ..., X_{100}$ whose PMF is \n",
    "\n",
    "\\begin{equation}\n",
    "P(X_j=0) = 0.25, \\\\\n",
    "P(X_j=1) = 0.5, \\\\\n",
    "P(X_j=5) = 0.1, \\\\\n",
    "P(X_j=10) = 0.15,\n",
    "\\end{equation}\n",
    "\n",
    "and $P(X_j=x) = 0$ for all other values of $x$."
   ]
  },
  {
   "cell_type": "code",
   "execution_count": null,
   "metadata": {
    "collapsed": true
   },
   "outputs": [],
   "source": [
    "x = [0, 1, 5, 10]\n",
    "p = [0.25, 0.5, 0.1, 0.15]"
   ]
  },
  {
   "cell_type": "code",
   "execution_count": null,
   "metadata": {
    "collapsed": true
   },
   "outputs": [],
   "source": []
  },
  {
   "cell_type": "code",
   "execution_count": null,
   "metadata": {
    "collapsed": true
   },
   "outputs": [],
   "source": [
    "np.random.choice?"
   ]
  },
  {
   "cell_type": "code",
   "execution_count": null,
   "metadata": {
    "collapsed": true
   },
   "outputs": [],
   "source": []
  },
  {
   "cell_type": "code",
   "execution_count": null,
   "metadata": {
    "collapsed": true
   },
   "outputs": [],
   "source": []
  },
  {
   "cell_type": "code",
   "execution_count": 15,
   "metadata": {},
   "outputs": [
    {
     "name": "stdout",
     "output_type": "stream",
     "text": [
      "0.502147128467\n"
     ]
    }
   ],
   "source": [
    "C = 2\n",
    "n = 10**5\n",
    "population = np.arange(C)    # [0, 1] == ['girl', 'boy']\n",
    "child1 = choice(population, size=n, replace=True)    # the gender of the elder child in each of n families\n",
    "child2 = choice(population, size=n, replace=True)    # the gender of the younger child in each of n families\n",
    "\n",
    "n_b = np.sum(child1 == 0)    # N(B): the number of families where the elder is a girl\n",
    "n_ab = np.sum(np.all([child1 == 0, child2 == 0], axis=0))    # N(A \\cap B): the number of families where both childeren are girls and the elder is a girl\n",
    "print(n_ab / float(n_b))"
   ]
  },
  {
   "cell_type": "markdown",
   "metadata": {},
   "source": [
    "- $A$: The event that both children are girls\n",
    "- $B$: The event that at least one of the children is a girl\n",
    "\n",
    "\\begin{equation}\n",
    "P(A|B) = \\frac{P(A \\cap B)} {P(B)} = \\frac{1/4} {3/4} = 1/3\n",
    "\\end{equation}"
   ]
  },
  {
   "cell_type": "code",
   "execution_count": 16,
   "metadata": {},
   "outputs": [
    {
     "name": "stdout",
     "output_type": "stream",
     "text": [
      "0.334608081727\n"
     ]
    }
   ],
   "source": [
    "n_b = np.sum(np.any([child1 == 0, child2 == 0], axis=0))    # N(B): the number of families where at least one of the children is a girl\n",
    "n_ab = np.sum(np.all([child1 == 0, child2 == 0], axis=0))    # N(A \\cap B): the number of families where both childeren are girls and the elder is a girll\n",
    "print(n_ab / float(n_b))"
   ]
  },
  {
   "cell_type": "markdown",
   "metadata": {},
   "source": [
    "### Monty Hall simulation\n",
    "\n",
    "#### Example: Monty Hall\n",
    "\n",
    "On the game show Let’s Make a Deal, hosted by Monty Hall, a contestant chooses one of three closed doors, two of which have a goat behind them and one of which has a car. Monty, who knows where the car is, then opens one of the two remaining doors. The door he opens always has a goat behind it (he never reveals the car!). If he has a choice, then he picks a door at random with equal probabilities. Monty then offers the contestant the option of switching to the other unopened door. If the contestant’s goal is to get the car, should she switch doors?\n",
    "\n",
    "(answer)\n",
    "Let’s label the doors 1 through 3. Without loss of generality, we can assume the contestant picked door 1 (if she didn’t pick door 1, we could simply relabel the doors, or rewrite this solution with the door numbers permuted). Monty opens a door, revealing a goat. As the contestant decides whether or not to switch to the remaining unopened door, what does she really wish she knew? Naturally, her decision would be a lot easier if she knew where the car was! This suggests that we should condition on the location of the car. Let $C_i$ be the event that the car is behind door i, for $i = 1, 2, 3$. By the law of total probability,\n",
    "\n",
    "\\begin{equation}\n",
    "P(get\\ car) = P(get\\ car|C_1)\\cdot\\frac{1}{3} + P(get\\ car|C_2)\\cdot\\frac{1}{3} + P(get\\ car|C_3)\\cdot\\frac{1}{3}\n",
    "\\end{equation}\n",
    "\n",
    "Suppose the contestant employs the switching strategy. If the car is behind door 1, then switching will fail, so $P(get\\ car|C_i) = 0$. If the car is behind door 2 or 3, then because Monty always reveals a goat, the remaining unopened door must contain the car, so switching will succeed. Thus,\n",
    "\n",
    "\\begin{equation}\n",
    "P(get\\ car) = 0\\cdot\\frac{1}{3} + 1\\cdot\\frac{1}{3} + 1\\cdot\\frac{1}{3} = \\frac{2}{3}\n",
    "\\end{equation}\n",
    "\n",
    "so the switching strategy succeeds 2/3 of the time. The contestant shou"
   ]
  },
  {
   "cell_type": "code",
   "execution_count": 20,
   "metadata": {},
   "outputs": [
    {
     "name": "stdout",
     "output_type": "stream",
     "text": [
      "0.33497\n"
     ]
    }
   ],
   "source": [
    "# Assume the contestant always chooses door 0\n",
    "C = 3\n",
    "n = 10**5   # Number of trials\n",
    "population = np.arange(C)   # [0, 1, 2]\n",
    "cardoor = choice(population, n, replace=True)\n",
    "print(np.sum(cardoor == 0) / float(n))   # The fraction of times when the never-switch strategy succeeds"
   ]
  },
  {
   "cell_type": "code",
   "execution_count": 37,
   "metadata": {
    "collapsed": true
   },
   "outputs": [],
   "source": [
    "def monty(simulate=True):\n",
    "    doors = np.arange(3)   # [0, 1, 2]\n",
    "    # Randomly pick where the car is\n",
    "    cardoor = choice(doors, 1)[0]\n",
    "    \n",
    "    if not simulate:\n",
    "        # Prompt player - \n",
    "        # Receive the player's choice of door (should be 0, 1, or 2)\n",
    "        chosen = int(input(\"Monty Hall says 'Pick a door, any door!'\"))\n",
    "    else:\n",
    "        chosen = 0\n",
    "    \n",
    "    # Pick Monty's door (can't be the player's door or the car door)\n",
    "    if chosen != cardoor:\n",
    "        montydoor = doors[np.all([doors != chosen, doors != cardoor], axis=0)]\n",
    "    else:\n",
    "        montydoor = choice(doors[doors != chosen])\n",
    "        \n",
    "    if not simulate:\n",
    "        # Find out whether the player wants to switch doors\n",
    "        print('Monty opens door {}!'.format(montydoor))\n",
    "        reply = str(input('Would you like to switch (y/n)?'))\n",
    "        \n",
    "        # Interpret what player wrote as 'yes' if it starts with 'y'\n",
    "        if reply[0] == 'y':\n",
    "            chosen = doors[np.all([doors != chosen, doors != montydoor], axis=0)]\n",
    "    else:\n",
    "        # FIXME: always change\n",
    "        chosen = doors[np.all([doors != chosen, doors != montydoor], axis=0)]\n",
    "    \n",
    "    # Announce the result of the game!\n",
    "    if (chosen == cardoor): \n",
    "        if not simulate: print('You won!')\n",
    "        return True\n",
    "    else:\n",
    "        if not simulate: print('You lost!')\n",
    "        return False"
   ]
  },
  {
   "cell_type": "code",
   "execution_count": 38,
   "metadata": {
    "collapsed": true
   },
   "outputs": [],
   "source": [
    "n = 10**5   # Number of trials\n",
    "results = []\n",
    "for i in range(n):\n",
    "    results.append(monty(simulate=True))"
   ]
  },
  {
   "cell_type": "code",
   "execution_count": null,
   "metadata": {
    "collapsed": true
   },
   "outputs": [],
   "source": []
  },
  {
   "cell_type": "code",
   "execution_count": null,
   "metadata": {
    "collapsed": true
   },
   "outputs": [],
   "source": []
  }
 ],
 "metadata": {
  "kernelspec": {
   "display_name": "Python 2",
   "language": "python",
   "name": "python2"
  },
  "language_info": {
   "codemirror_mode": {
    "name": "ipython",
    "version": 2
   },
   "file_extension": ".py",
   "mimetype": "text/x-python",
   "name": "python",
   "nbconvert_exporter": "python",
   "pygments_lexer": "ipython2",
   "version": "2.7.12"
  }
 },
 "nbformat": 4,
 "nbformat_minor": 2
}
