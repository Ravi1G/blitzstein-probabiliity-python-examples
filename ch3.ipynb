{
 "cells": [
  {
   "cell_type": "markdown",
   "metadata": {},
   "source": [
    "# 3. Random variables and their distributions"
   ]
  },
  {
   "cell_type": "markdown",
   "metadata": {},
   "source": [
    "## Brief summary\n",
    "\n",
    "### Random variable\n",
    "\n",
    "Given an experiment with sample space $S$, a *random variable* (r.v.) is a function from the sample space $S$ to the real numbers $\\mathbb{R}$. It is common, but not required, to denote random variables by capital letters.\n",
    "\n",
    "Thus, a random variable $X$ assigns a numerical value $X(s)$ to each possible outcome $s$ of the experiment. The randomness comes from the fact that we have a random experiment (with probabilities described by the probability function P); the mapping itself is deterministic.\n",
    "\n",
    "### Discrete random variable\n",
    "\n",
    "A random variable $X$ is said to be *discrete* if there is a finite list of values $a_1, a_2, ..., a_n$ or an infinite list of values $a_1, a_2, ...$ such that $P(X = a_j$ for some $j) = 1$. If $X$ is a discrete r.v., then the finite or countably infinite set of values $x$ such that $P(X=x) > 0$ is called the *support* of $X$.\n",
    "\n",
    "### Probability mass function\n",
    "\n",
    "The *probability mass function* (PMF) of a discrete r.v. $X$ is the function $p_X$ given by $p_X(x) = P(X=x)$. Note that this is positive if $x$ is in the support of $X$, and 0 otherwise.\n",
    "\n",
    "#### Valid PMFs\n",
    "\n",
    "Let $X$ be a discrete r.v. with support $x_1, x_2, ...$ (assume these values are distinct and, for notational simplicity, that the support is countably infinite; the analogous results hold if the support is finite). The PMF $p_X$ of $X$ must satisfy the following two criteria:\n",
    "\n",
    "- Nonnegative: $p_X(x) > 0$ if $x=x_j$ for some $j$, and $p_X(x) = 0$ otherwise;\n",
    "- Sums to 1: $\\sum_{j=1}^\\infty p_X(x_j) = 1$\n",
    "\n",
    "### Bernoulli distribution\n",
    "\n",
    "An r.v. $X$ is said to have the *Bernoulli distribution* with parameter $p$ if $P(X=1) = p$ and $P(X=0) = 1 - p$, where $0 < p < 1$. We write this as $X \\sim Bern(p)$. The symbol $\\sim$ is read \"is distributed as\".\n",
    "\n",
    "#### Indicator random variable\n",
    "\n",
    "The *indicator random variable* of an event $A$ is the r.v. which equals $1$ if $A$ occurs and $0$ otherwise. We will denote the indicator r.v. of $A$ by $I_A$ or $I(A)$. Note that $I_A \\sim Bern(p)$ with $p = P(A)$.\n",
    "\n",
    "### Binomial PMF\n",
    "\n",
    "If $X \\sim Bin(n,p)$, then the PMF of $X$ is\n",
    "\n",
    "\\begin{equation}\n",
    "P(X=k) = {{N}\\choose{k}}p^k(1-p)^{n-k}\n",
    "\\end{equation}\n",
    "\n",
    "for $k = 0, 1, ..., n$ (and $P(X=k) = 0$ otherwise).\n",
    "\n",
    "### Hypergeometric PMF\n",
    "\n",
    "If $X \\sim HGeom(w,b,n)$, then the PMF of $X$ is \n",
    "\n",
    "\\begin{equation}\n",
    "P(X=k) = \\frac{ {{w}\\choose{k}} {{b}\\choose{n-k}} } { {{w+b}\\choose{n}} }\n",
    "\\end{equation}\n",
    "\n",
    "for integers $k$ satisfying $0 \\leq k \\leq w$ and $0 \\leq n-k \\leq b$, and $P(X=k)=0$ otherwise.\n",
    "\n",
    "### Discrete Uniform distribution\n",
    "\n",
    "Let $C$ be a finite, nonempty set of numbers. Choose one of these numbers uniformly at random (i.e., all values in $C$ are equally likely). Call the chosen number $X$. Then $X$ is said to have the *Discrete Uniform distribution* with parameter $C$; we denote this by $X \\sim DUnif(C)$.\n",
    "\n",
    "The PMF of $X \\sim DUnif(C)$ is\n",
    "\n",
    "\\begin{equation}\n",
    "P(X=x) = \\frac{1} {|C|}\n",
    "\\end{equation}\n",
    "\n",
    "for $x \\in C$ (and $0$ otherwise). For $X \\sim DUnif(C)$ and any $A \\subseteq C$, we have\n",
    "\n",
    "\\begin{equation}\n",
    "P(X \\in A) = \\frac{|A|} {|C|}.\n",
    "\\end{equation}\n",
    "\n",
    "\n",
    "### Cumulative distribution function\n",
    "\n",
    "The *cumulative distribution function* (CDF) of an r.v. $X$ is the function $F_X$ given by $F_X(x) = P(X \\leq x)$. When there is no risk of ambiguity, we sometimes drop the subscript and just write $F$ (or some other letter) for a CDF.\n",
    "\n",
    "#### Valid CDFs\n",
    "\n",
    "Any CDF $F$ has the following properties.\n",
    "\n",
    "- Increasing: If $x_1 \\leq x_2$, then $F(x_1) \\leq F(x_2)$.\n",
    "- Right-continuous: The CDF is continuous except possibly for having some jumps. Wherever there is a jump, the CDF is continuous from the right. That is, for any $a$, we have\n",
    "\n",
    "\\begin{equation}\n",
    "F(a) = \\lim_{x \\to -\\infty} F(x).\n",
    "\\end{equation}\n",
    "\n",
    "- Convergence to $0$ and $1$ in the limits:\n",
    "\n",
    "\\begin{equation}\n",
    "\\lim_{x \\to -\\infty} F(x) = 0\\ {and}\\ \\lim_{x \\to \\infty} F(x) = 1.\n",
    "\\end{equation}\n",
    "\n",
    "### Function of an r.v.\n",
    "\n",
    "For an experiment with sample space $S$, an r.v. $X$, and a function $g: \\mathbb{R} \\to \\mathbb{R}$, $g(X)$ is the r.v. that maps $s$ to $g(X(s))$ for all $s \\in S$.\n",
    "\n",
    "#### PMF of g(X)\n",
    "\n",
    "Let $X$ be a discrete r.v. and $g:\\mathbb{R} \\to \\mathbb{R}$. Then the support of $g(X)$ is the set of all $y$ such that $g(x) = y$ for at least one $x$ in the support of $X$, and the PMF of $g(X)$ is\n",
    "\n",
    "\\begin{equation}\n",
    "P(g(x)=y) = \\sum_{x:g(x)=y} P(X=x)\n",
    "\\end{equation}\n",
    "\n",
    "for all $y$ in the support of $g(X)$.\n",
    "\n",
    "#### Function of two r.v.s\n",
    "\n",
    "Given an experiment with sample space $S$, if $X$ and $Y$ are r.v.s that map $s \\in S$ to $X(s)$ and $Y(s)$ respectively, then $g(X,Y)$ is the r.v. that maps $s$ to $g(X(s),Y(s))$.\n",
    "\n",
    "### Independence of two r.v.s\n",
    "\n",
    "Random variables $X$ and $Y$ are said to be *independent* if\n",
    "\n",
    "\\begin{equation}\n",
    "P(X \\leq x, Y \\leq y) = P(X \\leq x)P(Y \\leq y),\n",
    "\\end{equation}\n",
    "\n",
    "for all $x, y \\in \\mathbb{R}$. In the discrete case, this is equivalent to the condition\n",
    "\n",
    "\\begin{equation}\n",
    "P(X=x, Y=y) = P(X=x)P(Y=y)\n",
    "\\end{equation}\n",
    "\n",
    "for all $x, y$ with $x$ in the support of $X$ and $y$ in the support of $Y$.\n",
    "\n",
    "#### Independence of many r.v.s\n",
    "\n",
    "Random variables $X_1, ..., X_n$ are *independent* if\n",
    "\n",
    "\\begin{equation}\n",
    "P(X_1 \\leq x_1, X_n \\leq x_n) = P(X_1 \\leq x_1)...P(X_n \\leq x_n),\n",
    "\\end{equation}\n",
    "\n",
    "for all $x_1, ..., x_n \\in \\mathbb{R}$. For infinitely many r.v.s, we say that they are independent if every finite subset of the r.v.s is independent.\n",
    "\n",
    "#### i.i.d.\n",
    "\n",
    "Random variables that are independent and have the same distribution are called *independent and identically distributed*, or *i.i.d.* for short.\n",
    "\n",
    "### Conditional independency of r.v.s\n",
    "\n",
    "Random variables $X$ and $Y$ are *conditionally independent* given an r.v. $Z$ if for all $x,y \\in \\mathbb{R}$ and all $z$ in the support of $Z$,\n",
    "\n",
    "\\begin{equation}\n",
    "P(X \\leq x, Y \\leq y|Z = z) = P(X \\leq x|Z = z)P(Y \\leq y|Z = z)\n",
    "\\end{equation}\n",
    "\n",
    "For discrete r.v.s, an equivalent definition is to require\n",
    "\n",
    "\\begin{equation}\n",
    "P(X = x, Y = y|Z = z) = P(X = x|Z = z)P(Y = y|Z = z)\n",
    "\\end{equation}\n",
    "\n",
    "#### Conditional PMF\n",
    "\n",
    "For any discrete r.v.s $X$ and $Z$, the function $P(X=x|Z=z)$, when considered as a function of $x$ for fixed $z$, is called the *conditional PMF of $X$ given $Z = z$*.\n",
    "\n",
    "\n",
    "\n",
    "## Python examples"
   ]
  },
  {
   "cell_type": "code",
   "execution_count": 2,
   "metadata": {},
   "outputs": [
    {
     "name": "stdout",
     "output_type": "stream",
     "text": [
      "The autoreload extension is already loaded. To reload it, use:\n",
      "  %reload_ext autoreload\n"
     ]
    }
   ],
   "source": [
    "import numpy as np\n",
    "from scipy.stats import binom, hypergeom\n",
    "import matplotlib.pyplot as plt\n",
    "from numpy.random import choice\n",
    "from numpy.random import permutation\n",
    "\n",
    "%matplotlib inline\n",
    "%load_ext autoreload\n",
    "%autoreload 2"
   ]
  },
  {
   "cell_type": "markdown",
   "metadata": {},
   "source": [
    "### Binomial distribution\n",
    "\n",
    "\\begin{equation}\n",
    "P(X=k) = {{N}\\choose{k}}p^k(1-p)^{n-k}\n",
    "\\end{equation}"
   ]
  },
  {
   "cell_type": "code",
   "execution_count": 2,
   "metadata": {},
   "outputs": [
    {
     "name": "stdout",
     "output_type": "stream",
     "text": [
      "0.0512\n",
      "[ 0.32768  0.4096   0.2048   0.0512   0.0064 ]\n",
      "0.99328\n",
      "[0 2 1 1 2 1 2]\n"
     ]
    }
   ],
   "source": [
    "x, n, p = 3, 5, 0.2\n",
    "print(binom.pmf(x, n, p))   # PMF\n",
    "print(binom.pmf(np.arange(5), n, p))    # PMF for multiple values\n",
    "print(binom.cdf(x, n, p))     # CDF\n",
    "print(binom.rvs(n, p, size=7))    # Generating Binomial r.v.s"
   ]
  },
  {
   "cell_type": "code",
   "execution_count": 8,
   "metadata": {},
   "outputs": [
    {
     "data": {
      "text/plain": [
       "<Container object of 10 artists>"
      ]
     },
     "execution_count": 8,
     "metadata": {},
     "output_type": "execute_result"
    },
    {
     "data": {
      "image/png": "[encoded data removed]",
      "text/plain": [
       "<matplotlib.figure.Figure at 0x10a966990>"
      ]
     },
     "metadata": {},
     "output_type": "display_data"
    }
   ],
   "source": [
    "fig, axes = plt.subplots(2, 2, figsize=(10, 10))\n",
    "X = np.arange(11)\n",
    "n ,p = 10, 1/2.\n",
    "axes[0, 0].bar(X, binom.pmf(X, n, p))\n",
    "n, p = 10, 1/8.\n",
    "axes[0, 1].bar(X, binom.pmf(X, n, p))\n",
    "n, p = 100, 0.03\n",
    "axes[1, 0].bar(X, binom.pmf(X, n, p))\n",
    "n, p = 9, 4/5.\n",
    "axes[1, 1].bar(X[:10], binom.pmf(X[:10], n, p))"
   ]
  },
  {
   "cell_type": "markdown",
   "metadata": {},
   "source": [
    "### Hypergeometric distribution\n",
    "\n",
    "\\begin{equation}\n",
    "P(X=k) = \\frac{ {{w}\\choose{k}} {{b}\\choose{n-k}} } { {{w+b}\\choose{n}} }\n",
    "\\end{equation}"
   ]
  },
  {
   "cell_type": "code",
   "execution_count": 3,
   "metadata": {},
   "outputs": [
    {
     "name": "stdout",
     "output_type": "stream",
     "text": [
      "0.286068111455\n",
      "[  1.03199174e-04   4.33436533e-03   4.76780186e-02   1.98658411e-01\n",
      "   3.57585139e-01]\n",
      "0.894427244582\n",
      "[4 4 5 4 4 4 2 5 3 4]\n"
     ]
    }
   ],
   "source": [
    "x, n, w, b = 5, 12, 7, 13\n",
    "print(hypergeom.pmf(x, w+b, w, n))\n",
    "print(hypergeom.pmf(np.arange(5), w+b, w, n))\n",
    "print(hypergeom.cdf(x, w+b, w, n))\n",
    "print(hypergeom.rvs(w+b, w, n, size=10))"
   ]
  },
  {
   "cell_type": "code",
   "execution_count": 13,
   "metadata": {},
   "outputs": [
    {
     "data": {
      "text/plain": [
       "<Container object of 8 artists>"
      ]
     },
     "execution_count": 13,
     "metadata": {},
     "output_type": "execute_result"
    },
    {
     "data": {
      "image/png": "[encoded data removed]",
      "text/plain": [
       "<matplotlib.figure.Figure at 0x10be50c90>"
      ]
     },
     "metadata": {},
     "output_type": "display_data"
    }
   ],
   "source": [
    "X = np.arange(8)\n",
    "n, w, b = 12, 7, 13\n",
    "fig, ax = plt.subplots(2, 2)\n",
    "ax[0, 0].bar(X, hypergeom.pmf(X, w+b, w, n))\n",
    "n, w, b = 12, 14, 6\n",
    "ax[0, 1].bar(X, hypergeom.pmf(X, w+b, w, n))\n",
    "n, w, b = 12, 3, 17\n",
    "ax[1, 0].bar(X, hypergeom.pmf(X, w+b, w, n))\n",
    "n, w, b = 12, 17, 3\n",
    "ax[1, 1].bar(X, hypergeom.pmf(X, w+b, w, n))"
   ]
  },
  {
   "cell_type": "markdown",
   "metadata": {},
   "source": [
    "### Discrete distributions with finite support\n",
    "\n",
    "Generating realizations of i.i.d r.v.s $X_1, ..., X_{100}$ whose PMF is \n",
    "\n",
    "\\begin{equation}\n",
    "P(X_j=0) = 0.25, \\\\\n",
    "P(X_j=1) = 0.5, \\\\\n",
    "P(X_j=5) = 0.1, \\\\\n",
    "P(X_j=10) = 0.15,\n",
    "\\end{equation}\n",
    "\n",
    "and $P(X_j=x) = 0$ for all other values of $x$."
   ]
  },
  {
   "cell_type": "code",
   "execution_count": 4,
   "metadata": {},
   "outputs": [
    {
     "name": "stdout",
     "output_type": "stream",
     "text": [
      "[ 0  1  0  0  1 10 10  1  1 10  1  0 10  5  1  0  0  1  5  0  1  5 10  1  0\n",
      " 10  1  1  0 10  0  1  1  0  0  0 10  0  1  1  0  1  1  0  1  1  5  1  1  1\n",
      "  5  5  1 10  0  1  0  0  5  1  0 10  5 10  1  0  1  5  5  1 10  1 10  0  1\n",
      "  5  1  1  1  1  0  1  1  0 10  5  1  1 10  0  0  0  0  1  1  0 10  1  1  1]\n"
     ]
    }
   ],
   "source": [
    "x = [0, 1, 5, 10]\n",
    "p = [0.25, 0.5, 0.1, 0.15]\n",
    "print(np.random.choice(x, size=100, replace=True, p=p))"
   ]
  }
 ],
 "metadata": {
  "kernelspec": {
   "display_name": "Python 2",
   "language": "python",
   "name": "python2"
  },
  "language_info": {
   "codemirror_mode": {
    "name": "ipython",
    "version": 2
   },
   "file_extension": ".py",
   "mimetype": "text/x-python",
   "name": "python",
   "nbconvert_exporter": "python",
   "pygments_lexer": "ipython2",
   "version": "2.7.12"
  }
 },
 "nbformat": 4,
 "nbformat_minor": 2
}
