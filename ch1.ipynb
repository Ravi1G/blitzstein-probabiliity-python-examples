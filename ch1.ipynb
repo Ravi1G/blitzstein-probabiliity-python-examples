{
 "cells": [
  {
   "cell_type": "markdown",
   "metadata": {},
   "source": [
    "# 1. Probability and counting"
   ]
  },
  {
   "cell_type": "markdown",
   "metadata": {},
   "source": [
    "## Sample spaces and Pebble World\n",
    "\n",
    "### Sample space and event\n",
    "\n",
    "The *sample space* $S$ of an experiment is the set of all possible outcomes of the experiment. An *event* $A$ is a subset of the sample space $S$, and we say that $A$ *occurred* if the actual outcome is in $A$.\n",
    "\n",
    "### Naive definition of probability\n",
    "\n",
    "Let $A$ be an event for an experiment with a finite sample space $S$. The *naive probability* of $A$ is\n",
    "\n",
    "\\begin{equation}\n",
    "P_{naive}(A) = \\frac{|A|} {|S|} = \\frac{number\\ of\\ outcomes\\ favorable\\ to\\ A} {total\\ number\\ of\\ outcomes\\ in\\ S} \n",
    "\\end{equation}\n",
    "\n",
    "### General definition of probability\n",
    "\n",
    "A *probability space* consists of a sample space $S$ and a *probability function* $P$ which takes an event $A \\subseteq S$ as input and returns $P(A)$, a real number between 0 and 1, as output. The function $P$ must satisfy the following axioms:\n",
    "\n",
    "1. $P(\\phi) = 0$, $P(S) = 1$\n",
    "2. If $A_1$, $A_2$, $...$ are disjoint events, then \n",
    "\n",
    "\\begin{equation}\n",
    "P(\\bigcup_{j=1}^{\\infty} A_j) = \\sum_{j=1}^{\\infty} P(A_j)\n",
    "\\end{equation}\n",
    "\n",
    "### Properties of probability\n",
    "\n",
    "Probability has the following properties, for any events $A$ and $B$.\n",
    "\n",
    "1. $P(A^c) = 1 - P(A)$\n",
    "2. If $A \\subseteq B$, then $P(A) \\leq P(B)$\n",
    "3. $P(A \\cup B) = P(A) + P(B) - P(A \\cap B)$\n",
    "\n",
    "\n",
    "## Python examples"
   ]
  },
  {
   "cell_type": "code",
   "execution_count": 1,
   "metadata": {
    "collapsed": true
   },
   "outputs": [],
   "source": [
    "import numpy as np\n",
    "import matplotlib.pyplot as plt\n",
    "from scipy.special import factorial\n",
    "from scipy.special import binom\n",
    "from numpy.random import choice\n",
    "from numpy.random import permutation\n",
    "\n",
    "%matplotlib inline\n",
    "%load_ext autoreload\n",
    "%autoreload 2"
   ]
  },
  {
   "cell_type": "markdown",
   "metadata": {},
   "source": [
    "### Vectors"
   ]
  },
  {
   "cell_type": "code",
   "execution_count": 2,
   "metadata": {},
   "outputs": [
    {
     "name": "stdout",
     "output_type": "stream",
     "text": [
      "23\n",
      "1\n",
      "(6,)\n"
     ]
    }
   ],
   "source": [
    "# Vector definition\n",
    "v = np.array([3, 1, 4, 1, 5, 9])\n",
    "\n",
    "# Vector operations\n",
    "print(np.sum(v))   # v.sum()\n",
    "print(np.min(v))   # v.min()\n",
    "print(np.shape(v))   # v.shape"
   ]
  },
  {
   "cell_type": "code",
   "execution_count": 3,
   "metadata": {},
   "outputs": [
    {
     "name": "stdout",
     "output_type": "stream",
     "text": [
      "4\n",
      "[1 1 9]\n"
     ]
    }
   ],
   "source": [
    "# Accessing the entries of a vector\n",
    "print(v[2])\n",
    "print(v[[1, 3, 5]])"
   ]
  },
  {
   "cell_type": "markdown",
   "metadata": {},
   "source": [
    "### Factorials and binomial coefficients"
   ]
  },
  {
   "cell_type": "code",
   "execution_count": 4,
   "metadata": {},
   "outputs": [
    {
     "name": "stdout",
     "output_type": "stream",
     "text": [
      "120.0\n",
      "10.0\n"
     ]
    }
   ],
   "source": [
    "n, k = 5, 3\n",
    "print(factorial(n))    # factorial(n)\n",
    "print(binom(n, k))    # binom(n, k)"
   ]
  },
  {
   "cell_type": "markdown",
   "metadata": {},
   "source": [
    "### Sampling and simulation"
   ]
  },
  {
   "cell_type": "code",
   "execution_count": 5,
   "metadata": {},
   "outputs": [
    {
     "name": "stdout",
     "output_type": "stream",
     "text": [
      "[0 2 6 7 9]\n",
      "[7 4 5 3 7]\n",
      "[0 3 1 8 7 9 5 4 6 2]\n"
     ]
    }
   ],
   "source": [
    "n, k = 10, 5\n",
    "population = np.arange(n)    # [0, 1, 2, ..., n-1]\n",
    "print(choice(population, size=k, replace=False))   # choice(vector, k)  without replacement\n",
    "print(choice(population, size=k, replace=True))    # choice(vector, k) with replacement\n",
    "print(permutation(n))    # random permutation"
   ]
  },
  {
   "cell_type": "code",
   "execution_count": 6,
   "metadata": {},
   "outputs": [
    {
     "name": "stdout",
     "output_type": "stream",
     "text": [
      "['U' 'O' 'R' 'A' 'V' 'Z' 'F']\n"
     ]
    }
   ],
   "source": [
    "population = ['A', 'B', 'C', 'D', 'E', 'F', 'G', 'H', 'I', 'J', 'K', 'L', 'M', 'N', 'O', 'P',\n",
    "                      'Q', 'R', 'S', 'T', 'U', 'V', 'W', 'X', 'Y', 'Z']\n",
    "k = 7\n",
    "print(choice(population, size=k, replace=False))"
   ]
  },
  {
   "cell_type": "code",
   "execution_count": 7,
   "metadata": {},
   "outputs": [
    {
     "name": "stdout",
     "output_type": "stream",
     "text": [
      "[3 0 3]\n"
     ]
    }
   ],
   "source": [
    "n, k = 4, 3\n",
    "population = np.arange(n)\n",
    "print(choice(population, size=k, replace=True, p=[0.1, 0.2, 0.3, 0.4]))   # Sampling with given probabilities"
   ]
  },
  {
   "cell_type": "markdown",
   "metadata": {},
   "source": [
    "### Matching problem simulation\n",
    "\n",
    "Consider a well-shuffled deck of $n$ cards, labeled 1 through $n$. You flip over the cards one by one, saying the numbers 1 through $n$ as you do so. You win the game if, at some point, the number you say aloud is the same as the number on the card being flipped over (for example, if the 7th card in the deck has the label 7). What is the probability of winning?\n",
    "\n",
    "(answer)\n",
    "\\begin{equation}\n",
    "\\lim_{n \\to \\infty} P({winning}) = 1 - \\frac{1} {e} = 0.63\n",
    "\\end{equation}"
   ]
  },
  {
   "cell_type": "code",
   "execution_count": 8,
   "metadata": {},
   "outputs": [
    {
     "name": "stdout",
     "output_type": "stream",
     "text": [
      "0.6342\n"
     ]
    }
   ],
   "source": [
    "n = 100   # number of cards\n",
    "num_trials = 10**4   # number of trials\n",
    "results = []\n",
    "for i in range(num_trials):\n",
    "    results.append(np.sum(permutation(n) == np.arange(n)))   # shuffle; count matches\n",
    "results = np.array(results, dtype=int)\n",
    "print(np.sum(results >= 1) / float(num_trials))   # proportion with a match"
   ]
  },
  {
   "cell_type": "markdown",
   "metadata": {},
   "source": [
    "### Birthday problem calculation and simulation\n",
    "\n",
    "There are $k$ people in a room. Assume each person's birthday is equally likely to be any of the 365 days of the year (we exclude February 29), and that people's birthdays are independent (we assume there are no twins in the room). What is the probability that two or more people in the group have the same birthday?\n",
    "\n",
    "(answer) \n",
    "\\begin{equation}\n",
    "P(no\\ birthday\\ match) = \\frac{365\\cdot364\\cdot{...}\\cdot(365-k+1)} {365^k}\n",
    "\\end{equation}\n",
    "\n",
    "\\begin{equation}\n",
    "P(at\\ least\\ 1\\ birthday\\ match) = 1 - \\frac{365\\cdot364\\cdot{...}\\cdot(365-k+1)} {365^k}\n",
    "\\end{equation}"
   ]
  },
  {
   "cell_type": "code",
   "execution_count": 9,
   "metadata": {},
   "outputs": [
    {
     "name": "stdout",
     "output_type": "stream",
     "text": [
      "0.507297234324\n"
     ]
    },
    {
     "data": {
      "image/png": "[encoded data removed]",
      "text/plain": [
       "<matplotlib.figure.Figure at 0x1073129d0>"
      ]
     },
     "metadata": {},
     "output_type": "display_data"
    }
   ],
   "source": [
    "k_max = 100\n",
    "k_np = np.arange(start=1, stop=k_max+1)   # [1, ..., 100]\n",
    "\n",
    "probs = []\n",
    "for k in k_np:\n",
    "    mult = 1.0\n",
    "    for j in range(365-k+1, 366):\n",
    "        mult *= j / 365.\n",
    "    p = 1 - mult\n",
    "    probs.append(p)\n",
    "    \n",
    "fig = plt.figure(figsize=(10, 5))\n",
    "plt.plot(k_np, np.array(probs), 'ko')\n",
    "plt.plot(k_np, len(k_np)*[0.5], 'k--')\n",
    "plt.xlabel('k')\n",
    "plt.ylabel('Probability of birthday match')\n",
    "plt.xlim([0, 100])\n",
    "plt.ylim([0, 1])\n",
    "\n",
    "print(probs[22])"
   ]
  },
  {
   "cell_type": "code",
   "execution_count": 10,
   "metadata": {},
   "outputs": [
    {
     "name": "stdout",
     "output_type": "stream",
     "text": [
      "0.5066\n"
     ]
    }
   ],
   "source": [
    "# Birthday problem simulation\n",
    "n, k = 365, 23\n",
    "population = np.arange(n)\n",
    "num_trials = 10**4  # number of trials\n",
    "results = []\n",
    "for i in range(num_trials):\n",
    "    sample = choice(population, size=k, replace=True)\n",
    "    unique, counts = np.unique(sample, return_counts=True)   # get unique days and their matching counts\n",
    "    results.append(np.max(counts))\n",
    "results = np.array(results, dtype=int)\n",
    "print(np.sum(results >= 2) / float(num_trials))"
   ]
  }
 ],
 "metadata": {
  "kernelspec": {
   "display_name": "Python 2",
   "language": "python",
   "name": "python2"
  },
  "language_info": {
   "codemirror_mode": {
    "name": "ipython",
    "version": 2
   },
   "file_extension": ".py",
   "mimetype": "text/x-python",
   "name": "python",
   "nbconvert_exporter": "python",
   "pygments_lexer": "ipython2",
   "version": "2.7.12"
  }
 },
 "nbformat": 4,
 "nbformat_minor": 2
}
