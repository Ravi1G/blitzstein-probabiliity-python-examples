{
 "cells": [
  {
   "cell_type": "markdown",
   "metadata": {},
   "source": [
    "# 9. Conditional expectation"
   ]
  },
  {
   "cell_type": "markdown",
   "metadata": {},
   "source": [
    "## Brief summary\n",
    "\n",
    "### Conditional expectation given an event\n",
    "\n",
    "Let $A$ be an event with positive probability. If $Y$ is a discrete r.v., then the *conditional expectation of* $Y$ *given* $A$ is \n",
    "\n",
    "\\begin{equation}\n",
    "E(Y|A) = \\sum_y yP(Y=y|A),\n",
    "\\end{equation}\n",
    "\n",
    "where the sum is over the support of $Y$. If $Y$ is a continuous r.v. with PDF $f$, then \n",
    "\n",
    "\\begin{equation}\n",
    "E(Y|A) = \\int_{-\\infty}^{\\infty} yf(y|A)dy,\n",
    "\\end{equation}\n",
    "\n",
    "where the conditional PDF $f(y|A)$ is defined as the derivative of the conditional CDF $F(y|A) = P(Y \\leq y|A)$, and can also be computed by a hybrid version of Bayes' rule:\n",
    "\n",
    "\\begin{equation}\n",
    "f(y|A) = \\frac{P(A|Y=y)f(y)} {P(A)}.\n",
    "\\end{equation}\n",
    "\n",
    "### Law of total expectation\n",
    "\n",
    "Let $A_1, ..., A_n$ be a partition of a sample space, with $P(A_i) > 0$ for all $i$, and let $Y$ be a random variable on this sample space. Then\n",
    "\n",
    "\\begin{equation}\n",
    "E(Y) = \\sum_{i=1}^n E(Y|A_i)P(A_i).\n",
    "\\end{equation}\n",
    "\n",
    "### Conditional expectation given a r.v.\n",
    "\n",
    "Let $g(x) = E(Y|X=x)$. Then the *conditional expectation of* $Y$ *given* $X$, denoted $E(Y|X)$, is defined to be the random variable $g(X)$. In other words, if after doing the experiment $X$ crystallizes into $x$, then $E(Y|X)$ crystallizes into $g(x)$.\n",
    "\n",
    "### Properties of conditional expectation\n",
    "\n",
    "#### Dropping what's independent\n",
    "\n",
    "If $X$ and $Y$ are independent, then $E(Y|X) = E(Y)$.\n",
    "\n",
    "#### Taking out what's known\n",
    "\n",
    "For any function $h$, \n",
    "\n",
    "\\begin{equation}\n",
    "E(h(X)Y|X) = h(X)E(Y|X).\n",
    "\\end{equation}\n",
    "\n",
    "\n",
    "### Adam's law\n",
    "\n",
    "For any r.v.s $X$ and $Y$,\n",
    "\n",
    "\\begin{equation}\n",
    "E(E(Y|X)) = E(Y).\n",
    "\\end{equation}\n",
    "\n",
    "#### Adam's law with extra conditioning\n",
    "\n",
    "For any r.v.s $X, Y, Z$, we have\n",
    "\n",
    "\\begin{equation}\n",
    "E(E(Y|X,Z)|Z) = E(Y|Z)\n",
    "\\end{equation}\n",
    "\n",
    "#### Projection interpretation\n",
    "\n",
    "For any function $h$, the r.v. $Y-E(Y|X)$ is uncorrelated with $h(X)$. Equivalently,\n",
    "\n",
    "\\begin{equation}\n",
    "E((Y-E(Y|X))h(X)) = 0.\n",
    "\\end{equation}\n",
    "\n",
    "(This is equivalent since $E(Y-E(Y|X)) = 0$, by linearity and Adam's law.)\n",
    "\n",
    "\n",
    "### Conditional variance\n",
    "\n",
    "The *conditional variance of* $Y$ *given* $X$ is\n",
    "\n",
    "\\begin{equation}\n",
    "Var(Y|X) = E((Y-E(Y|X))^2|X).\n",
    "\\end{equation}\n",
    "\n",
    "This is equivalent to\n",
    "\n",
    "\\begin{equation}\n",
    "Var(Y|X) = E(Y^2|X) - (E(Y|X))^2.\n",
    "\\end{equation}\n",
    "\n",
    "\n",
    "### Eve's law \n",
    "\n",
    "For any r.v.s $X$ and $Y$,\n",
    "\n",
    "\\begin{equation}\n",
    "Var(Y) = E(Var(Y|X)) + Var(E(Y|X)).\n",
    "\\end{equation}\n",
    "\n",
    "\n",
    "## Python examples\n",
    "\n"
   ]
  },
  {
   "cell_type": "code",
   "execution_count": 1,
   "metadata": {},
   "outputs": [],
   "source": [
    "import numpy as np\n",
    "import matplotlib.pyplot as plt\n",
    "from scipy.stats import uniform, norm\n",
    "from numpy.random import choice\n",
    "\n",
    "%matplotlib inline\n",
    "%load_ext autoreload\n",
    "%autoreload 2"
   ]
  },
  {
   "cell_type": "markdown",
   "metadata": {},
   "source": [
    "### Mystery prize simulation\n",
    "\n",
    "You are approached by another stranger, who gives you an opportunity to bid on a mystery box containing a mystery prize! The value of the prize is completely unknown, except that it is worth at least nothing, and at most a million dollars. So the true value $V$ of the prize is considered to be Uniform on $[0, 1]$ (measured in millions of dollars).\n",
    "\n",
    "You can choose to bid any amount $b$ (in millions of dollars). You have the chance to get the prize for considerably less than it is worth, but you could also lose money if you bid too much. Specifically, if $b < 2V/3$, then the bid is rejected and nothing is gained or lost. If $b \\geq 2V/3$, then the bid is accepted and your net payoff is $V-b$ (since you pay $b$ to get a prize worth $V$). What is your optimal bid $b$, to maximize the expected payoff?\n",
    "\n",
    "*Solution:*\n",
    "Your bid $b \\geq 0$ must be a predetermined constant (not based on $V$, since $V$ is unknown). To find the expected payoff $W$, condition on whether the bid is accepted. The payoff is $V-b$ if the bid is accepted and $0$ is the bid is rejected. So\n",
    "\n",
    "\\begin{equation}\n",
    "E(W) = E(W|b \\geq 2V/3)P(b \\geq 2V/3) + E(W|b < 2V/3)P(b < 2V/3) \\\\\n",
    "= E(V-b|b \\geq 2V/3)P(b \\geq 2V/3) + 0 \\\\\n",
    "= (E(V|V \\leq 3b/2) - b)P(V \\leq 3b/2) \\\\\n",
    "= (3b/4-b)(3b/2) = -3b^2/8.\n",
    "\\end{equation}\n",
    "\n",
    "The above expression is negative except at $b=0$, so the optimal bid is $0$: you shouldn't play this game!"
   ]
  },
  {
   "cell_type": "code",
   "execution_count": 2,
   "metadata": {},
   "outputs": [],
   "source": [
    "# First choose a bid b (we chose 0.6)\n",
    "b = 0.6\n",
    "# then simulate a large number of hypothetical mystery prizes and store them in V\n",
    "num_trials = 10**5\n",
    "V = uniform.rvs(size=num_trials)"
   ]
  },
  {
   "cell_type": "code",
   "execution_count": 3,
   "metadata": {},
   "outputs": [
    {
     "name": "stdout",
     "output_type": "stream",
     "text": [
      "-0.150159848977\n"
     ]
    }
   ],
   "source": [
    "# Get the average profit conditional on an accepted bid\n",
    "print(np.mean(V[b > (2/3.)*V]) - b)   # this should be negative regardless of b"
   ]
  },
  {
   "cell_type": "markdown",
   "metadata": {},
   "source": [
    "### Time until HH vs. HT\n",
    "\n",
    "You toss a fair coin repeatedly. What is the expected number of tosses until the pattern *HT* appears for the first time? What about the expected number of tosses until *HH* appears for the first time?\n",
    "\n",
    "*Solution:*\n",
    "Let $W_{HT}$ be the number of tosses until *HT* appears. $W_{HT}$ is the waiting time for the first Heads, which we'll call $W_1$, plus the additional waiting time for the first Tails after the first Heads, which we'll call $W_2$. By the story of the First Success distribution, $W_1$ and $W_2$ are i.i.d. $FS(1/2)$, so $E(W_1) = E(W_2) = 2$ and $E(W_{HT})=4$.\n",
    "\n",
    "Finding the expected waiting time for *HH*, is more complicated. We can't apply the same logic as for $E(W_{HT})$: if the first Heads is immediately followed by Tails, our progress is destroyed and we must start from scratch. But this is progress for us in solving the problem, since the fact that the system can get reset suggests the strategy of first-step analysis. Let's condition on the outcome of the first toss:\n",
    "\n",
    "\\begin{equation}\n",
    "E(W_{HH}) = E(W_{HH}|\\text{first toss H})\\frac{1}{2} + E(W_{HH}|\\text{first toss T})\\frac{1}{2} \\\\\n",
    "= \\big(2 \\cdot \\frac{1}{2} + (2 + E(W_{HH})) \\cdot \\frac{1}{2}\\big)\\frac{1}{2} + (1 + E(W_{HH})) \\frac{1}{2} \\\\\n",
    "= 6.\n",
    "\\end{equation}"
   ]
  },
  {
   "cell_type": "code",
   "execution_count": 4,
   "metadata": {},
   "outputs": [
    {
     "name": "stdout",
     "output_type": "stream",
     "text": [
      "THHTHHHTHTTHTHHHTHHHHTTHHTHTHTHTTHTHHHTTTHHTHHHHTTHTHHHHHHTHHHTHTHTTHHHHTHTHHTHTTTHHTHHHHTTHHTHHTHHH\n"
     ]
    }
   ],
   "source": [
    "print(''.join(np.random.choice(['H', 'T'], size=100, replace=True)))"
   ]
  },
  {
   "cell_type": "code",
   "execution_count": 5,
   "metadata": {
    "collapsed": true
   },
   "outputs": [],
   "source": [
    "R = []\n",
    "num_trials = 10**3\n",
    "for i in range(num_trials):\n",
    "    R.append(''.join(np.random.choice(['H', 'T'], size=100, replace=True)))"
   ]
  },
  {
   "cell_type": "code",
   "execution_count": 6,
   "metadata": {},
   "outputs": [
    {
     "name": "stdout",
     "output_type": "stream",
     "text": [
      "5.792\n"
     ]
    }
   ],
   "source": [
    "# Locate 'HH' in strings\n",
    "T = [s.find('HH') for s in R]\n",
    "print(np.mean(T) + len('HH'))   # ending position"
   ]
  },
  {
   "cell_type": "code",
   "execution_count": 7,
   "metadata": {},
   "outputs": [
    {
     "name": "stdout",
     "output_type": "stream",
     "text": [
      "3.873\n"
     ]
    }
   ],
   "source": [
    "# Locate 'HT' in strings\n",
    "T = [s.find('HT') for s in R]\n",
    "print(np.mean(T) + len('HT'))   # ending position"
   ]
  },
  {
   "cell_type": "markdown",
   "metadata": {
    "collapsed": true
   },
   "source": [
    "### Linear regression\n",
    "\n",
    "An extremely widely used method for data analysis in statistics is *linear regression*. In its most basic form, the linear regression model uses a single explanatory variable $X$ to predict a response variable $Y$, and it assumes that the conditional expectation of $Y$ is *linear* in $X$:\n",
    "\n",
    "\\begin{equation}\n",
    "E(Y|X) = a + bX.\n",
    "\\end{equation}\n",
    "\n",
    "(a) An equivalent way to express this is to write\n",
    "\n",
    "\\begin{equation}\n",
    "Y = a + bX + \\epsilon,\n",
    "\\end{equation}\n",
    "\n",
    "where $\\epsilon$ is a r.v. (called the *error*) with $E(\\epsilon|X) = 0$.\n",
    "\n",
    "(b) Solving for the constants $a$ and $b$ in terms of $E(X)$, $E(Y)$, $Cov(X,Y)$, and $Var(X)$, we get \n",
    "\n",
    "\\begin{equation}\n",
    "b = \\frac{Cov(X,Y)}{Var(X)}, \\\\\n",
    "a = E(Y) - bE(X) = E(Y) - \\frac{Cov(X, Y)}{Var(X)} \\cdot E(X).\n",
    "\\end{equation}\n"
   ]
  },
  {
   "cell_type": "code",
   "execution_count": 8,
   "metadata": {
    "collapsed": true
   },
   "outputs": [],
   "source": [
    "X = norm.rvs(size=100)   # realizations of r.v. X ~ N(0, 1)\n",
    "Y = 3 + 5*X + norm.rvs(size=100)   # realizations of r.v. Y = a + bX + eps, where eps ~ N(0, 1)"
   ]
  },
  {
   "cell_type": "code",
   "execution_count": 9,
   "metadata": {},
   "outputs": [
    {
     "name": "stdout",
     "output_type": "stream",
     "text": [
      "5.09101651987\n",
      "2.99969215134\n"
     ]
    }
   ],
   "source": [
    "b = np.cov([X, Y], rowvar=True)[0, 1] / np.var(X)\n",
    "print(b)\n",
    "a = np.mean(Y) - b*np.mean(X)\n",
    "print(a)"
   ]
  },
  {
   "cell_type": "code",
   "execution_count": 10,
   "metadata": {},
   "outputs": [
    {
     "data": {
      "image/png": "[encoded data removed]",
      "text/plain": [
       "<matplotlib.figure.Figure at 0x107cd4110>"
      ]
     },
     "metadata": {},
     "output_type": "display_data"
    }
   ],
   "source": [
    "plt.figure(figsize=(8, 8))\n",
    "_ = plt.scatter(X, Y, marker='o', color='black')\n",
    "_ = plt.plot(X, a + b*X)"
   ]
  }
 ],
 "metadata": {
  "kernelspec": {
   "display_name": "Python 2",
   "language": "python",
   "name": "python2"
  },
  "language_info": {
   "codemirror_mode": {
    "name": "ipython",
    "version": 2
   },
   "file_extension": ".py",
   "mimetype": "text/x-python",
   "name": "python",
   "nbconvert_exporter": "python",
   "pygments_lexer": "ipython2",
   "version": "2.7.12"
  }
 },
 "nbformat": 4,
 "nbformat_minor": 2
}
