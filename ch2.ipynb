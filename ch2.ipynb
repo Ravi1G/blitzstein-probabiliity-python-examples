{
 "cells": [
  {
   "cell_type": "markdown",
   "metadata": {},
   "source": [
    "# 2. Conditional probability"
   ]
  },
  {
   "cell_type": "markdown",
   "metadata": {},
   "source": [
    "## Brief summary\n",
    "\n",
    "### Conditional probability\n",
    "\n",
    "If $A$ and $B$ are events with $P(B) > 0$, then the *conditional probability* of $A$ given $B$, denoted by $P(A|B)$, is defined as\n",
    "\n",
    "\\begin{equation}\n",
    "P(A|B) = \\frac{P(A \\cap B)} {P(B)}\n",
    "\\end{equation}\n",
    "\n",
    "- $P(A)$: *prior* probability of $A$\n",
    "- $P(A|B)$: *posterior* probability of $A$ (after updating based on the *evidence* $B$)\n",
    "\n",
    "\n",
    "### Bayes' rule\n",
    "\n",
    "\\begin{equation}\n",
    "P(A|B) = \\frac{P(B|A)P(A)} {P(B)}\n",
    "\\end{equation}\n",
    "\n",
    "\n",
    "### Odds\n",
    "\n",
    "The *odds* of an event $A$ are\n",
    "\n",
    "\\begin{equation}\n",
    "odds(A) = P(A) / P(A^c)\n",
    "\\end{equation}\n",
    "\n",
    "\n",
    "### The Law of total probability (LOTP)\n",
    "\n",
    "Let $A_1$, $...$, $A_n$ be a partition of the sample space $S$ (i.e., the $A_i$ are disjoint events and their union is $S$), with $P(A_i) > 0$ for all $i$. Then\n",
    "\n",
    "\\begin{equation}\n",
    "P(B) = \\sum_{i=1}^{n} P(B|A_i)P(A_i)\n",
    "\\end{equation}\n",
    "\n",
    "\n",
    "### Indepence of two events\n",
    "\n",
    "Events $A$ and $B$ are *independent* if\n",
    "\n",
    "\\begin{equation}\n",
    "P(A \\cap B) = P(A)P(B)\n",
    "\\end{equation}\n",
    "\n",
    "If $P(A) > 0$ and $P(B) > 0$, then this is equivalent to\n",
    "\n",
    "\\begin{equation}\n",
    "P(A|B) = P(A), P(B|A) = P(B)\n",
    "\\end{equation}\n",
    "\n",
    "\n",
    "### Conditional independence\n",
    "\n",
    "Events $A$ and $B$ are said to be *conditionally independent* given $E$ if \n",
    "\n",
    "\\begin{equation}\n",
    "P(A \\cap B|E) = P(A|E)P(B|E)\n",
    "\\end{equation}\n",
    "\n",
    "\n",
    "\n",
    "\n",
    "\n",
    "## Python examples"
   ]
  },
  {
   "cell_type": "code",
   "execution_count": 1,
   "metadata": {
    "collapsed": true
   },
   "outputs": [],
   "source": [
    "import numpy as np\n",
    "import matplotlib.pyplot as plt\n",
    "from scipy.special import factorial\n",
    "from scipy.special import binom\n",
    "from numpy.random import choice\n",
    "from numpy.random import permutation\n",
    "\n",
    "%matplotlib inline\n",
    "%load_ext autoreload\n",
    "%autoreload 2"
   ]
  },
  {
   "cell_type": "markdown",
   "metadata": {},
   "source": [
    "### Simulating the frequentist interpretation\n",
    "\n",
    "#### Example: Elder is a girl vs. at least one girl\n",
    "\n",
    "A family has two children, and it is known that at least one is a girl. What is the probability that both are girls, given this information? What if it is known that the *elder* child is a girl?\n",
    "\n",
    "- $A$: The event that both children are girls\n",
    "- $B$: The event that the elder is a girl\n",
    "\n",
    "\\begin{equation}\n",
    "P(A|B) = \\frac{P(A \\cap B)} {P(B)} = \\frac{1/4} {1/2} = 1/2\n",
    "\\end{equation}"
   ]
  },
  {
   "cell_type": "code",
   "execution_count": 2,
   "metadata": {},
   "outputs": [
    {
     "name": "stdout",
     "output_type": "stream",
     "text": [
      "0.501058814128\n"
     ]
    }
   ],
   "source": [
    "C = 2\n",
    "n = 10**5\n",
    "population = np.arange(C)    # [0, 1] == ['girl', 'boy']\n",
    "child1 = choice(population, size=n, replace=True)    # the gender of the elder child in each of n families\n",
    "child2 = choice(population, size=n, replace=True)    # the gender of the younger child in each of n families\n",
    "\n",
    "n_b = np.sum(child1 == 0)    # N(B): the number of families where the elder is a girl\n",
    "n_ab = np.sum(np.all([child1 == 0, child2 == 0], axis=0))    # N(A \\cap B): the number of families where both childeren are girls and the elder is a girl\n",
    "print(n_ab / float(n_b))"
   ]
  },
  {
   "cell_type": "markdown",
   "metadata": {},
   "source": [
    "- $A$: The event that both children are girls\n",
    "- $B$: The event that at least one of the children is a girl\n",
    "\n",
    "\\begin{equation}\n",
    "P(A|B) = \\frac{P(A \\cap B)} {P(B)} = \\frac{1/4} {3/4} = 1/3\n",
    "\\end{equation}"
   ]
  },
  {
   "cell_type": "code",
   "execution_count": 3,
   "metadata": {},
   "outputs": [
    {
     "name": "stdout",
     "output_type": "stream",
     "text": [
      "0.33447130836\n"
     ]
    }
   ],
   "source": [
    "n_b = np.sum(np.any([child1 == 0, child2 == 0], axis=0))    # N(B): the number of families where at least one of the children is a girl\n",
    "n_ab = np.sum(np.all([child1 == 0, child2 == 0], axis=0))    # N(A \\cap B): the number of families where both childeren are girls and the elder is a girll\n",
    "print(n_ab / float(n_b))"
   ]
  },
  {
   "cell_type": "markdown",
   "metadata": {},
   "source": [
    "### Monty Hall simulation\n",
    "\n",
    "#### Example: Monty Hall\n",
    "\n",
    "On the game show Let’s Make a Deal, hosted by Monty Hall, a contestant chooses one of three closed doors, two of which have a goat behind them and one of which has a car. Monty, who knows where the car is, then opens one of the two remaining doors. The door he opens always has a goat behind it (he never reveals the car!). If he has a choice, then he picks a door at random with equal probabilities. Monty then offers the contestant the option of switching to the other unopened door. If the contestant’s goal is to get the car, should she switch doors?\n",
    "\n",
    "(answer)\n",
    "Let’s label the doors 1 through 3. Without loss of generality, we can assume the contestant picked door 1 (if she didn’t pick door 1, we could simply relabel the doors, or rewrite this solution with the door numbers permuted). Monty opens a door, revealing a goat. As the contestant decides whether or not to switch to the remaining unopened door, what does she really wish she knew? Naturally, her decision would be a lot easier if she knew where the car was! This suggests that we should condition on the location of the car. Let $C_i$ be the event that the car is behind door i, for $i = 1, 2, 3$. By the law of total probability,\n",
    "\n",
    "\\begin{equation}\n",
    "P(\\text{get car}) = P(\\text{get car}|C_1)\\cdot\\frac{1}{3} + P(\\text{get car}|C_2)\\cdot\\frac{1}{3} + P(\\text{get car}|C_3)\\cdot\\frac{1}{3}\n",
    "\\end{equation}\n",
    "\n",
    "Suppose the contestant employs the switching strategy. If the car is behind door 1, then switching will fail, so $P(get\\ car|C_i) = 0$. If the car is behind door 2 or 3, then because Monty always reveals a goat, the remaining unopened door must contain the car, so switching will succeed. Thus,\n",
    "\n",
    "\\begin{equation}\n",
    "P(\\text{get car}) = 0\\cdot\\frac{1}{3} + 1\\cdot\\frac{1}{3} + 1\\cdot\\frac{1}{3} = \\frac{2}{3}\n",
    "\\end{equation}\n",
    "\n",
    "so the switching strategy succeeds 2/3 of the time. The contestant shou"
   ]
  },
  {
   "cell_type": "code",
   "execution_count": 4,
   "metadata": {},
   "outputs": [
    {
     "name": "stdout",
     "output_type": "stream",
     "text": [
      "0.33218\n"
     ]
    }
   ],
   "source": [
    "# Assume the contestant always chooses door 0\n",
    "C = 3\n",
    "n = 10**5   # Number of trials\n",
    "population = np.arange(C)   # [0, 1, 2]\n",
    "cardoor = choice(population, n, replace=True)\n",
    "print(np.sum(cardoor == 0) / float(n))   # The fraction of times when the never-switch strategy succeeds"
   ]
  },
  {
   "cell_type": "code",
   "execution_count": 5,
   "metadata": {
    "collapsed": true
   },
   "outputs": [],
   "source": [
    "def monty(simulate=True):\n",
    "    doors = np.arange(3)   # [0, 1, 2]\n",
    "    # Randomly pick where the car is\n",
    "    cardoor = choice(doors, 1)[0]\n",
    "    \n",
    "    if not simulate:\n",
    "        # Prompt player - \n",
    "        # Receive the player's choice of door (should be 0, 1, or 2)\n",
    "        chosen = int(input(\"Monty Hall says 'Pick a door, any door!'\"))\n",
    "    else:\n",
    "        chosen = 0\n",
    "    \n",
    "    # Pick Monty's door (can't be the player's door or the car door)\n",
    "    if chosen != cardoor:\n",
    "        montydoor = doors[np.all([doors != chosen, doors != cardoor], axis=0)]\n",
    "    else:\n",
    "        montydoor = choice(doors[doors != chosen])\n",
    "        \n",
    "    if not simulate:\n",
    "        # Find out whether the player wants to switch doors\n",
    "        print('Monty opens door {}!'.format(montydoor))\n",
    "        reply = str(input('Would you like to switch (y/n)?'))\n",
    "        \n",
    "        # Interpret what player wrote as 'yes' if it starts with 'y'\n",
    "        if reply[0] == 'y':\n",
    "            chosen = doors[np.all([doors != chosen, doors != montydoor], axis=0)]\n",
    "    else:\n",
    "        # FIXME: always change\n",
    "        chosen = doors[np.all([doors != chosen, doors != montydoor], axis=0)]\n",
    "    \n",
    "    # Announce the result of the game!\n",
    "    if (chosen == cardoor): \n",
    "        if not simulate: print('You won!')\n",
    "        return True\n",
    "    else:\n",
    "        if not simulate: print('You lost!')\n",
    "        return False"
   ]
  },
  {
   "cell_type": "code",
   "execution_count": 6,
   "metadata": {},
   "outputs": [
    {
     "name": "stdout",
     "output_type": "stream",
     "text": [
      "0.66718\n"
     ]
    }
   ],
   "source": [
    "n = 10**5   # Number of trials\n",
    "results = []\n",
    "for i in range(n):\n",
    "    results.append(monty(simulate=True))\n",
    "print(np.sum(results)/float(n))"
   ]
  }
 ],
 "metadata": {
  "kernelspec": {
   "display_name": "Python 2",
   "language": "python",
   "name": "python2"
  },
  "language_info": {
   "codemirror_mode": {
    "name": "ipython",
    "version": 2
   },
   "file_extension": ".py",
   "mimetype": "text/x-python",
   "name": "python",
   "nbconvert_exporter": "python",
   "pygments_lexer": "ipython2",
   "version": "2.7.12"
  }
 },
 "nbformat": 4,
 "nbformat_minor": 2
}
