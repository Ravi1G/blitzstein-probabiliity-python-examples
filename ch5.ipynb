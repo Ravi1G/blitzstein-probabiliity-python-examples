{
 "cells": [
  {
   "cell_type": "markdown",
   "metadata": {},
   "source": [
    "# 5. Continuous random variables"
   ]
  },
  {
   "cell_type": "markdown",
   "metadata": {},
   "source": [
    "## Brief summary\n",
    "\n",
    "### Continuous r.v.\n",
    "\n",
    "An r.v. has a *continuous distribution* is its CDF is differentiable. We also allow there to be endpoints (or finitely many points) where the CDF is continuous but not differentiable, as long as the CDF is differentiable everywhere else. A *continouse random variable* is a random variable with a continous distribution.\n",
    "\n",
    "### Probability density function\n",
    "\n",
    "For a continuous r.v. $X$ with CDF $F$, the *probability density function* (PDF) of $X$ is the derivative $f$ of the CDF, given by $f(x)=F'(x)$. The *support* of $X$, and of its distribution, is the set of all $x$ where $f(x) > 0$.\n",
    "\n",
    "#### PDF to CDF\n",
    "\n",
    "Let $X$ be a continuous r.v. with PDF $f$. Then the CDF of $X$ is given by\n",
    "\n",
    "\\begin{equation}\n",
    "F(x) = \\int_{-\\infty}^{x} f(t)dt.\n",
    "\\end{equation}\n",
    "\n",
    "#### Valid PDFs\n",
    "\n",
    "The PDF $f$ of a continuous r.v. must satisfy the following two criteria:\n",
    "\n",
    "- Nonnegative: $f(x) \\geq 0$;\n",
    "- Integrates to 1: $\\int_{-\\infty}^{\\infty} f(x)dx = 1$.\n",
    "\n",
    "#### Expectation of a continuous r.v.\n",
    "\n",
    "The *expected value* (also called the *expectation* or *mean*) of a continuous r.v. with PDF $f$ is\n",
    "\n",
    "\\begin{equation}\n",
    "E(X) = \\int_{-\\infty}^{\\infty} xf(x)dx.\n",
    "\\end{equation}\n",
    "\n",
    "#### LOTUS, continuous\n",
    "\n",
    "If $X$ is a continuous r.v. with PDF $f$ and $g$ is a function from $\\mathbb{R}$ to $\\mathbb{R}$, then\n",
    "\n",
    "\\begin{equation}\n",
    "E(g(X)) = \\int_{-\\infty}^{\\infty} g(x)f(x)dx.\n",
    "\\end{equation}\n",
    "\n",
    "### Uniform distribution\n",
    "\n",
    "A continuous r.v. $U$ is said to have the *Uniform distribution* on the interval $(a, b)$ if its PDF is \n",
    "\n",
    "\\begin{equation}\n",
    "f(x) = \n",
    "    \\begin{cases}\n",
    "        \\frac{1} {b-a} & \\text{if}\\ a<x<b, \\\\\n",
    "        0 & \\text{otherwise}.\n",
    "    \\end{cases}\n",
    "\\end{equation}\n",
    "\n",
    "We denote this by $U \\sim Unif(a, b)$.\n",
    "\n",
    "The CDF is the accumulated area under the PDF:\n",
    "\n",
    "\\begin{equation}\n",
    "F(x) = \n",
    "    \\begin{cases}\n",
    "        0 & \\text{if}\\ x \\leq a, \\\\\n",
    "        \\frac{x-a} {b-a} & \\text{if}\\ a < x < b, \\\\\n",
    "        1 & \\text{if}\\ x \\geq b.\n",
    "    \\end{cases}\n",
    "\\end{equation}\n",
    "\n",
    "### Location-scale transformation\n",
    "\n",
    "Let $X$ be an r.v. and $Y = \\sigma X + \\mu$, where $\\sigma$ and $\\mu$ are constants with $\\sigma > 0$. Then we say that $Y$ has been obtained as a *location-scale transformation* of $X$. Here $\\mu$ controls how the location is changed and $\\sigma$ controls how the scale is changed.\n",
    "\n",
    "### Universality of the Uniform\n",
    "\n",
    "Let $F$ be a CDF which is a continuous function and strictly increasing on the support of the distribution. This ensures that the inverse function $F^{-1}$ exists, as a function from $(0,1)$ to $\\mathbb{R}$. We then have the following results.\n",
    "\n",
    "1. Let $U \\sim Unif(0,1)$ and $X = F^{-1}(U)$. Then $X$ is a r.v. with CDF $F$.\n",
    "2. Let $X$ be a r.v. with CDF $F$. Then $F(X) \\sim Unif(0,1)$.\n",
    "\n",
    "### Standard Normal distribution\n",
    "\n",
    "A continuous r.v. $Z$ is said to have the *standard Normal distribution* if its PDF $\\phi$ is given by\n",
    "\n",
    "\\begin{equation}\n",
    "\\phi(z) = \\frac{1}{\\sqrt{2\\pi}}e^{-z^2/2},\\ -\\infty < z < \\infty\n",
    "\\end{equation}\n",
    "\n",
    "We write this as $Z \\sim \\mathcal{N}(0,1)$ since $Z$ has mean $0$ and variance $1$.\n",
    "\n",
    "### Normal distribution\n",
    "\n",
    "If $Z \\sim \\mathcal{N}(0,1)$, then\n",
    "\n",
    "\\begin{equation}\n",
    "X = \\mu + \\sigma Z\n",
    "\\end{equation}\n",
    "\n",
    "is said to have the *Normal distribution* with mean $\\mu$ and variance $\\sigma^2$. We denote this by $X \\sim \\mathcal{N}(\\mu, \\sigma^2)$.\n",
    "\n",
    "The CDF of $X$ is\n",
    "\n",
    "\\begin{equation}\n",
    "F(x) = \\Phi\\big(\\frac{x - \\mu} {\\sigma}\\big),\n",
    "\\end{equation}\n",
    "\n",
    "and the PDF of $X$ is \n",
    "\\begin{equation}\n",
    "f(x) = \\phi\\big(\\frac{x - \\mu} {\\sigma}\\big)\\frac{1} {\\sigma},\n",
    "\\end{equation}\n",
    "\n",
    "where \n",
    "\\begin{equation}\n",
    "f(x) = \\frac{1}{\\sqrt{2\\pi}\\sigma}exp\\big(-\\frac{(x-\\mu)^2}{2\\sigma^2}\\big).\n",
    "\\end{equation}\n",
    "\n",
    "For $X \\sim \\mathcal{N}(\\mu, \\sigma^2)$, the *standardized version* of $X$ is\n",
    "\n",
    "\\begin{equation}\n",
    "\\frac{X - \\mu} {\\sigma} \\sim \\mathcal{N}(0, 1).\n",
    "\\end{equation}\n",
    "\n",
    "#### 68-95-99.7% rule\n",
    "\n",
    "If $X \\sim \\mathcal{N}(\\mu, \\sigma^2)$, then\n",
    "\n",
    "\\begin{equation}\n",
    "P(|X - \\mu| < \\sigma) \\approx 0.68 \\\\\n",
    "P(|X - \\mu| < 2\\sigma) \\approx 0.95 \\\\\n",
    "P(|X - \\mu| < 3\\sigma) \\approx 0.997.\n",
    "\\end{equation}\n",
    "\n",
    "\n",
    "### Exponential distribution\n",
    "\n",
    "A continuous r.v. $X$ is said to have the *Exponential distribution* with parameter $\\lambda$ if its PDF is \n",
    "\n",
    "\\begin{equation}\n",
    "f(x) = \\lambda e^{-\\lambda x},\\ x > 0.\n",
    "\\end{equation}\n",
    "\n",
    "We denote this by $X \\sim Expo(\\lambda)$. The corresponding CDF is \n",
    "\n",
    "\\begin{equation}\n",
    "F(x) = 1 - e^{-\\lambda x},\\ x > 0.\n",
    "\\end{equation}\n",
    "\n",
    "An Exponential r.v. represents the waiting time until the first arrival of a success, analogous to the Geometric distribution which counts the number of failures before the first success in a sequence of Bernoulli trials.\n",
    "\n",
    "#### Memoryless property\n",
    "\n",
    "A distribution is said to have the *memoryless property* if a random variable $X$ from that distribution satisfies\n",
    "\n",
    "\\begin{equation}\n",
    "P(X \\geq s+t|X \\geq s) = P(X \\geq t)\n",
    "\\end{equation}\n",
    "\n",
    "for all $s, t > 0$.\n",
    "\n",
    "### Poisson process\n",
    "\n",
    "A process of arrivals in continuous time is called a *Poisson process* with rate $\\lambda$ if the following two conditions hold.\n",
    "\n",
    "1. The number of arrivals that occur in an interval of length $t$ is a $Pois(\\lambda t)$ random variable.\n",
    "2. The numbers of arrivals that occur in disjoint intervals are independent of each other.\n",
    "\n",
    "In a Poisson process of rate $\\lambda$, \n",
    "\n",
    "- the number of arrivals in an interval of length $1$ is $Pois(\\lambda)$, and\n",
    "- the times between arrivals are i.i.d. $Expo(\\lambda)$.\n",
    "\n",
    "### Symmetry of i.i.d. continuous r.v.s\n",
    "\n",
    "Let $X_1, ..., X_n$ be i.i.d. from a continuous distribution. Then $P(X_{a_1} < ... < X_{a_n}) = 1/n!$ for any permutation $a_1, ..., a_n$ of $1, ..., n$.\n",
    "\n",
    "- All possible rankings are equally likely.\n",
    "\n",
    "\n",
    "## Python examples"
   ]
  },
  {
   "cell_type": "code",
   "execution_count": 1,
   "metadata": {},
   "outputs": [],
   "source": [
    "import numpy as np\n",
    "import matplotlib.pyplot as plt\n",
    "from scipy.stats import uniform, norm, expon, logistic\n",
    "from numpy.random import choice\n",
    "from numpy.random import permutation\n",
    "\n",
    "%matplotlib inline\n",
    "%load_ext autoreload\n",
    "%autoreload 2"
   ]
  },
  {
   "cell_type": "markdown",
   "metadata": {},
   "source": [
    "### Uniform distribution\n",
    "\n",
    "\\begin{equation}\n",
    "f(x) = \n",
    "    \\begin{cases}\n",
    "        \\frac{1} {b-a} & \\text{if}\\ a<x<b, \\\\\n",
    "        0 & \\text{otherwise}.\n",
    "    \\end{cases}\n",
    "\\end{equation}"
   ]
  },
  {
   "cell_type": "code",
   "execution_count": 2,
   "metadata": {},
   "outputs": [
    {
     "name": "stdout",
     "output_type": "stream",
     "text": [
      "[ 0.  0.  0.  0.  0.  0.  0.  0.  0.  0.  0.  0.  0.  0.  0.  0.  0.  0.\n",
      "  0.  0.  0.  0.  0.  0.  0.  1.  1.  1.  1.  1.  1.  1.  1.  1.  1.  1.\n",
      "  1.  1.  1.  1.  1.  1.  1.  1.  1.  1.  1.  1.  1.  1.  1.  1.  1.  1.\n",
      "  1.  1.  1.  1.  1.  1.  1.  1.  1.  1.  1.  1.  1.  1.  1.  1.  1.  1.\n",
      "  1.  1.  1.  0.  0.  0.  0.  0.  0.  0.  0.  0.  0.  0.  0.  0.  0.  0.\n",
      "  0.  0.  0.  0.  0.  0.  0.  0.  0.  0.]\n",
      "[ 0.          0.          0.          0.          0.          0.          0.\n",
      "  0.          0.          0.          0.          0.          0.          0.\n",
      "  0.          0.          0.          0.          0.          0.          0.\n",
      "  0.          0.          0.          0.          0.00505051  0.02525253\n",
      "  0.04545455  0.06565657  0.08585859  0.10606061  0.12626263  0.14646465\n",
      "  0.16666667  0.18686869  0.20707071  0.22727273  0.24747475  0.26767677\n",
      "  0.28787879  0.30808081  0.32828283  0.34848485  0.36868687  0.38888889\n",
      "  0.40909091  0.42929293  0.44949495  0.46969697  0.48989899  0.51010101\n",
      "  0.53030303  0.55050505  0.57070707  0.59090909  0.61111111  0.63131313\n",
      "  0.65151515  0.67171717  0.69191919  0.71212121  0.73232323  0.75252525\n",
      "  0.77272727  0.79292929  0.81313131  0.83333333  0.85353535  0.87373737\n",
      "  0.89393939  0.91414141  0.93434343  0.95454545  0.97474747  0.99494949\n",
      "  1.          1.          1.          1.          1.          1.          1.\n",
      "  1.          1.          1.          1.          1.          1.          1.\n",
      "  1.          1.          1.          1.          1.          1.          1.\n",
      "  1.          1.          1.          1.        ]\n"
     ]
    }
   ],
   "source": [
    "loc, scale = 0.0, 1.0\n",
    "X = np.linspace(-0.5, 1.5, 100)\n",
    "print(uniform.pdf(X, loc, scale))\n",
    "print(uniform.cdf(X, loc, scale))\n",
    "# print(uniform.rvs(p, size=100))"
   ]
  },
  {
   "cell_type": "code",
   "execution_count": 3,
   "metadata": {},
   "outputs": [
    {
     "data": {
      "text/plain": [
       "[<matplotlib.lines.Line2D at 0x107d15550>]"
      ]
     },
     "execution_count": 3,
     "metadata": {},
     "output_type": "execute_result"
    },
    {
     "data": {
      "image/png": "[encoded data removed]",
      "text/plain": [
       "<matplotlib.figure.Figure at 0x107c70490>"
      ]
     },
     "metadata": {},
     "output_type": "display_data"
    }
   ],
   "source": [
    "fig, axes = plt.subplots(1, 2, figsize=(10, 5))\n",
    "axes[0].plot(X, uniform.pdf(X, loc, scale))\n",
    "axes[1].plot(X, uniform.cdf(X, loc, scale))"
   ]
  },
  {
   "cell_type": "markdown",
   "metadata": {},
   "source": [
    "### Standard Normal distribution\n",
    "\n",
    "\\begin{equation}\n",
    "\\phi(z) = \\frac{1}{\\sqrt{2\\pi}}e^{-z^2/2},\\ -\\infty < z < \\infty\n",
    "\\end{equation}"
   ]
  },
  {
   "cell_type": "code",
   "execution_count": 4,
   "metadata": {},
   "outputs": [
    {
     "name": "stdout",
     "output_type": "stream",
     "text": [
      "[ 0.00443185  0.00530579  0.00632878  0.00752133  0.00890582  0.0105065\n",
      "  0.01234943  0.01446241  0.01687483  0.01961746  0.02272223  0.02622189\n",
      "  0.03014961  0.03453857  0.03942137  0.0448295   0.05079264  0.05733801\n",
      "  0.06448952  0.07226707  0.08068571  0.08975477  0.09947714  0.10984842\n",
      "  0.12085626  0.13247967  0.14468855  0.15744319  0.17069405  0.18438164\n",
      "  0.1984366   0.21277993  0.22732351  0.24197072  0.2566174   0.27115285\n",
      "  0.28546117  0.29942268  0.31291556  0.3258175   0.33800759  0.34936814\n",
      "  0.35978656  0.36915722  0.37738323  0.38437808  0.3900672   0.39438923\n",
      "  0.39729716  0.39875915  0.39875915  0.39729716  0.39438923  0.3900672\n",
      "  0.38437808  0.37738323  0.36915722  0.35978656  0.34936814  0.33800759\n",
      "  0.3258175   0.31291556  0.29942268  0.28546117  0.27115285  0.2566174\n",
      "  0.24197072  0.22732351  0.21277993  0.1984366   0.18438164  0.17069405\n",
      "  0.15744319  0.14468855  0.13247967  0.12085626  0.10984842  0.09947714\n",
      "  0.08975477  0.08068571  0.07226707  0.06448952  0.05733801  0.05079264\n",
      "  0.0448295   0.03942137  0.03453857  0.03014961  0.02622189  0.02272223\n",
      "  0.01961746  0.01687483  0.01446241  0.01234943  0.0105065   0.00890582\n",
      "  0.00752133  0.00632878  0.00530579  0.00443185]\n",
      "[ 0.0013499   0.00164427  0.00199603  0.00241482  0.00291159  0.00349868\n",
      "  0.00418999  0.00500104  0.00594906  0.00705314  0.00833425  0.00981533\n",
      "  0.01152131  0.01347915  0.01571778  0.01826811  0.02116287  0.02443656\n",
      "  0.02812518  0.03226612  0.03689778  0.04205935  0.04779035  0.0541303\n",
      "  0.06111818  0.06879198  0.07718815  0.08634102  0.09628221  0.10704004\n",
      "  0.11863893  0.13109879  0.14443448  0.15865525  0.17376426  0.18975815\n",
      "  0.20662669  0.2243525   0.24291088  0.26226972  0.28238953  0.30322357\n",
      "  0.32471814  0.34681289  0.36944134  0.39253143  0.41600624  0.43978468\n",
      "  0.46378241  0.48791269  0.51208731  0.53621759  0.56021532  0.58399376\n",
      "  0.60746857  0.63055866  0.65318711  0.67528186  0.69677643  0.71761047\n",
      "  0.73773028  0.75708912  0.7756475   0.79337331  0.81024185  0.82623574\n",
      "  0.84134475  0.85556552  0.86890121  0.88136107  0.89295996  0.90371779\n",
      "  0.91365898  0.92281185  0.93120802  0.93888182  0.9458697   0.95220965\n",
      "  0.95794065  0.96310222  0.96773388  0.97187482  0.97556344  0.97883713\n",
      "  0.98173189  0.98428222  0.98652085  0.98847869  0.99018467  0.99166575\n",
      "  0.99294686  0.99405094  0.99499896  0.99581001  0.99650132  0.99708841\n",
      "  0.99758518  0.99800397  0.99835573  0.9986501 ]\n"
     ]
    }
   ],
   "source": [
    "loc, scale = 0.0, 1.0\n",
    "X = np.linspace(-3, 3, 100)\n",
    "print(norm.pdf(X))\n",
    "print(norm.cdf(X))\n",
    "# print(norm.rvs(p, size=100))"
   ]
  },
  {
   "cell_type": "code",
   "execution_count": 5,
   "metadata": {},
   "outputs": [
    {
     "data": {
      "text/plain": [
       "[<matplotlib.lines.Line2D at 0x107ebf690>]"
      ]
     },
     "execution_count": 5,
     "metadata": {},
     "output_type": "execute_result"
    },
    {
     "data": {
      "image/png": "[encoded data removed]",
      "text/plain": [
       "<matplotlib.figure.Figure at 0x107ded5d0>"
      ]
     },
     "metadata": {},
     "output_type": "display_data"
    }
   ],
   "source": [
    "fig, axes = plt.subplots(1, 2, figsize=(10, 5))\n",
    "axes[0].plot(X, norm.pdf(X))\n",
    "axes[1].plot(X, norm.cdf(X))"
   ]
  },
  {
   "cell_type": "markdown",
   "metadata": {},
   "source": [
    "### Exponential distribution\n",
    "\n",
    "\\begin{equation}\n",
    "f(x) = \\lambda e^{-\\lambda x},\\ x > 0.\n",
    "\\end{equation}"
   ]
  },
  {
   "cell_type": "code",
   "execution_count": 6,
   "metadata": {},
   "outputs": [
    {
     "name": "stdout",
     "output_type": "stream",
     "text": [
      "[ 1.          0.9701515   0.94119394  0.91310072  0.88584603  0.85940486\n",
      "  0.83375292  0.80886665  0.78472319  0.76130039  0.73857671  0.71653131\n",
      "  0.69514393  0.67439493  0.65426525  0.63473642  0.61579049  0.59741007\n",
      "  0.57957828  0.56227874  0.54549556  0.52921334  0.51341712  0.49809239\n",
      "  0.48322508  0.46880154  0.45480852  0.44123317  0.42806302  0.41528598\n",
      "  0.40289032  0.39086465  0.37919793  0.36787944  0.35689879  0.3462459\n",
      "  0.33591098  0.32588454  0.31615738  0.30672056  0.29756541  0.28868353\n",
      "  0.28006676  0.27170719  0.26359714  0.25572916  0.24809603  0.24069074\n",
      "  0.23350648  0.22653666  0.21977488  0.21321493  0.20685079  0.2006766\n",
      "  0.19468671  0.1888756   0.18323795  0.17776857  0.17246245  0.1673147\n",
      "  0.16232061  0.15747559  0.15277518  0.14821507  0.14379107  0.13949912\n",
      "  0.13533528  0.13129573  0.12737675  0.12357474  0.11988622  0.1163078\n",
      "  0.11283619  0.1094682   0.10620074  0.1030308   0.09995549  0.09697197\n",
      "  0.0940775   0.09126943  0.08854517  0.08590223  0.08333818  0.08085066\n",
      "  0.07843739  0.07609615  0.0738248   0.07162124  0.06948345  0.06740947\n",
      "  0.0653974   0.06344539  0.06155164  0.05971442  0.05793203  0.05620285\n",
      "  0.05452528  0.05289778  0.05131886  0.04978707]\n",
      "[ 0.          0.0298485   0.05880606  0.08689928  0.11415397  0.14059514\n",
      "  0.16624708  0.19113335  0.21527681  0.23869961  0.26142329  0.28346869\n",
      "  0.30485607  0.32560507  0.34573475  0.36526358  0.38420951  0.40258993\n",
      "  0.42042172  0.43772126  0.45450444  0.47078666  0.48658288  0.50190761\n",
      "  0.51677492  0.53119846  0.54519148  0.55876683  0.57193698  0.58471402\n",
      "  0.59710968  0.60913535  0.62080207  0.63212056  0.64310121  0.6537541\n",
      "  0.66408902  0.67411546  0.68384262  0.69327944  0.70243459  0.71131647\n",
      "  0.71993324  0.72829281  0.73640286  0.74427084  0.75190397  0.75930926\n",
      "  0.76649352  0.77346334  0.78022512  0.78678507  0.79314921  0.7993234\n",
      "  0.80531329  0.8111244   0.81676205  0.82223143  0.82753755  0.8326853\n",
      "  0.83767939  0.84252441  0.84722482  0.85178493  0.85620893  0.86050088\n",
      "  0.86466472  0.86870427  0.87262325  0.87642526  0.88011378  0.8836922\n",
      "  0.88716381  0.8905318   0.89379926  0.8969692   0.90004451  0.90302803\n",
      "  0.9059225   0.90873057  0.91145483  0.91409777  0.91666182  0.91914934\n",
      "  0.92156261  0.92390385  0.9261752   0.92837876  0.93051655  0.93259053\n",
      "  0.9346026   0.93655461  0.93844836  0.94028558  0.94206797  0.94379715\n",
      "  0.94547472  0.94710222  0.94868114  0.95021293]\n"
     ]
    }
   ],
   "source": [
    "l = 1\n",
    "loc, scale = 0.0, 1/float(l)   # scale = 1 / lambda\n",
    "X = np.linspace(0.0, 3.0, 100)\n",
    "print(expon.pdf(X, loc, scale))\n",
    "print(expon.cdf(X, loc, scale))\n",
    "# print(expon.rvs(p, size=100))"
   ]
  },
  {
   "cell_type": "code",
   "execution_count": 7,
   "metadata": {},
   "outputs": [
    {
     "data": {
      "text/plain": [
       "[<matplotlib.lines.Line2D at 0x108b18090>]"
      ]
     },
     "execution_count": 7,
     "metadata": {},
     "output_type": "execute_result"
    },
    {
     "data": {
      "image/png": "[encoded data removed]",
      "text/plain": [
       "<matplotlib.figure.Figure at 0x107fbb4d0>"
      ]
     },
     "metadata": {},
     "output_type": "display_data"
    }
   ],
   "source": [
    "fig, axes = plt.subplots(1, 2, figsize=(10, 5))\n",
    "axes[0].plot(X, expon.pdf(X, loc, scale))\n",
    "axes[1].plot(X, expon.cdf(X, loc, scale))"
   ]
  },
  {
   "cell_type": "markdown",
   "metadata": {},
   "source": [
    "### Universality with Logistic"
   ]
  },
  {
   "cell_type": "code",
   "execution_count": 8,
   "metadata": {},
   "outputs": [],
   "source": [
    "U = uniform.rvs(size=10**4)\n",
    "X = np.log(U/(1-U))"
   ]
  },
  {
   "cell_type": "code",
   "execution_count": 9,
   "metadata": {},
   "outputs": [
    {
     "data": {
      "text/plain": [
       "[<matplotlib.lines.Line2D at 0x108be9090>]"
      ]
     },
     "execution_count": 9,
     "metadata": {},
     "output_type": "execute_result"
    },
    {
     "data": {
      "image/png": "[encoded data removed]",
      "text/plain": [
       "<matplotlib.figure.Figure at 0x108be9f10>"
      ]
     },
     "metadata": {},
     "output_type": "display_data"
    }
   ],
   "source": [
    "fig, axes = plt.subplots(1, 2, figsize=(10, 5))\n",
    "axes[0].hist(X, bins=100, range=(-15.0, 15.0))\n",
    "base = np.linspace(-15.0, 15.0, 100)\n",
    "axes[1].plot(base, logistic.pdf(base))"
   ]
  },
  {
   "cell_type": "markdown",
   "metadata": {},
   "source": [
    "### Poisson process simulation"
   ]
  },
  {
   "cell_type": "code",
   "execution_count": 10,
   "metadata": {},
   "outputs": [
    {
     "name": "stdout",
     "output_type": "stream",
     "text": [
      "[ 0.02121423  0.24728858  0.19995314  0.00880653  0.04882776  0.09639196\n",
      "  0.28731906  0.11454204  0.01510344  0.00217316  0.01031666  0.52758982\n",
      "  0.00341333  0.030493    0.09910198  0.03552025  0.09946101  0.28086376\n",
      "  0.21190024  0.1497116   0.05997371  0.08765253  0.01086519  0.13940907\n",
      "  0.15591168  0.70432198  0.09512391  0.08993817  0.01683762  0.38962669\n",
      "  0.00826572  0.10667373  0.01014279  0.04849927  0.00396262  0.26904038\n",
      "  0.01246447  0.03237703  0.00878538  0.34672495  0.42071085  0.09549868\n",
      "  0.03530411  0.18231268  0.05989841  0.21529418  0.00127434  0.40740913\n",
      "  0.00668766  0.05370376]\n"
     ]
    }
   ],
   "source": [
    "# Generate the interarrival times as i.i.d Exponentials\n",
    "n = 50\n",
    "l = 10\n",
    "X = expon.rvs(loc=0, scale=1/float(l), size=n)\n",
    "print(X)   # X ~ Expo(l): interarrival times"
   ]
  },
  {
   "cell_type": "code",
   "execution_count": 11,
   "metadata": {},
   "outputs": [
    {
     "name": "stdout",
     "output_type": "stream",
     "text": [
      "[ 0.02121423  0.26850281  0.46845595  0.47726248  0.52609024  0.6224822\n",
      "  0.90980126  1.0243433   1.03944675  1.04161991  1.05193656  1.57952638\n",
      "  1.58293971  1.61343271  1.71253469  1.74805494  1.84751595  2.12837971\n",
      "  2.34027996  2.48999155  2.54996527  2.6376178   2.64848299  2.78789205\n",
      "  2.94380373  3.64812571  3.74324962  3.8331878   3.85002542  4.23965211\n",
      "  4.24791783  4.35459156  4.36473434  4.41323361  4.41719623  4.68623661\n",
      "  4.69870108  4.7310781   4.73986348  5.08658843  5.50729929  5.60279797\n",
      "  5.63810208  5.82041477  5.88031317  6.09560736  6.09688169  6.50429082\n",
      "  6.51097848  6.56468223]\n"
     ]
    }
   ],
   "source": [
    "t = np.cumsum(X)\n",
    "print(t)    # t: simulated arrival times"
   ]
  }
 ],
 "metadata": {
  "kernelspec": {
   "display_name": "Python 2",
   "language": "python",
   "name": "python2"
  },
  "language_info": {
   "codemirror_mode": {
    "name": "ipython",
    "version": 2
   },
   "file_extension": ".py",
   "mimetype": "text/x-python",
   "name": "python",
   "nbconvert_exporter": "python",
   "pygments_lexer": "ipython2",
   "version": "2.7.12"
  }
 },
 "nbformat": 4,
 "nbformat_minor": 2
}
