{
 "cells": [
  {
   "cell_type": "markdown",
   "metadata": {},
   "source": [
    "# 7. Joint distributions"
   ]
  },
  {
   "cell_type": "markdown",
   "metadata": {},
   "source": [
    "## Brief summary\n",
    "\n",
    "### Joint distribution of discrete r.v.s\n",
    "\n",
    "#### Joint CDF\n",
    "\n",
    "The *joint CDF* of r.v.s $X$ and $Y$ is the function $F_{X,Y}$ given by\n",
    "\n",
    "\\begin{equation}\n",
    "F_{X,Y}(x,y) = P(X \\leq x, Y \\leq y).\n",
    "\\end{equation}\n",
    "\n",
    "#### Joint PMF\n",
    "\n",
    "The *joint PMF* of discrete r.v.s $X$ and $Y$ is the function $p_{X,Y}$ given by\n",
    "\n",
    "\\begin{equation}\n",
    "p_{X,Y}(x,y) = P(X=x, Y=y).\n",
    "\\end{equation}\n",
    "\n",
    "- We require valid joint PMFs to be nonnegative and the sum taken over all possible values of $X$ and $Y$ to be 1:\n",
    "\n",
    "\\begin{equation}\n",
    "\\sum_x \\sum_y P(X=x, Y=y) = 1.\n",
    "\\end{equation}\n",
    "\n",
    "- To find the probability of the event $(X, Y) \\in A$ for any set $A$ in the plane, we sum the joint PMF over $A$:\n",
    "\n",
    "\\begin{equation}\n",
    "P((X,Y) \\in A) = {\\sum \\sum}_{(x, y) \\in A} P(X=x, Y=y).\n",
    "\\end{equation}\n",
    "\n",
    "#### Marginal PMF\n",
    "\n",
    "For discrete r.v.s $X$ and $Y$, the *marginal PMF* of $X$ is\n",
    "\n",
    "\\begin{equation}\n",
    "P(X=x) = \\sum_y P(X=x, Y=y).\n",
    "\\end{equation}\n",
    "\n",
    "- The marginal CDF of $X$ is\n",
    "\n",
    "\\begin{equation}\n",
    "F_X(x) = P(X \\leq x) = \\lim_{y \\to \\infty} P(X \\leq x, Y \\leq y) = \\lim_{y \\to \\infty} F_{X,Y}(x,y).\n",
    "\\end{equation}\n",
    "\n",
    "#### Conditional PMF\n",
    "\n",
    "For discrete r.v.s $X$ and $Y$, the *conditional PMF* of $Y$ given $X=x$ is\n",
    "\n",
    "\\begin{equation}\n",
    "P(Y=y|X=x) = \\frac{P(X=x, Y=y)}{P(X=x)}\n",
    "\\end{equation}\n",
    "\n",
    "- We can also relate the conditional distribution of $Y$ given $X=x$ to that of $X$ given $Y=y$, using Bayes' rule:\n",
    "\n",
    "\\begin{equation}\n",
    "P(Y=y|X=x) = \\frac{P(X=x|Y=y)P(Y=y)} {P(X=x)}.\n",
    "\\end{equation}\n",
    "\n",
    "- Using the law of total probability, we have another way of getting the marginal PMF:\n",
    "\n",
    "\\begin{equation}\n",
    "P(X=x) = \\sum_y P(X=x|Y=y)P(Y=y).\n",
    "\\end{equation}\n",
    "\n",
    "#### Independence of discrete r.v.s\n",
    "\n",
    "Random variables $X$ and $Y$ are *independent* if for all $x$ and $y$,\n",
    "\n",
    "\\begin{equation}\n",
    "F_{X,Y}(x,y) = F_X(x)F_Y(y).\n",
    "\\end{equation}\n",
    "\n",
    "If $X$ and $Y$ are discrete, this is equivalent to the condition\n",
    "\n",
    "\\begin{equation}\n",
    "P(X=x, Y=y) = P(X=x)P(Y=y)\n",
    "\\end{equation}\n",
    "\n",
    "for all $x$ and $y$, and it is also equivalent to the condition\n",
    "\n",
    "\\begin{equation}\n",
    "P(Y=y|X=x) = P(Y=y)\n",
    "\\end{equation}\n",
    "\n",
    "for all $y$ and all $x$ such that $P(X=x) > 0$.\n",
    "\n",
    "### Joint distribution of continuous r.v.s\n",
    "\n",
    "#### Joint PDF\n",
    "\n",
    "If $X$ and $Y$ are continuous with joint CDF $F_{X,Y}$, their *joint PDF* is the derivative of the joint CDF with respect to $x$ and $y$:\n",
    "\n",
    "\\begin{equation}\n",
    "f_{X,Y}(x,y) = \\frac {\\partial^2}{\\partial x \\partial y} F_{X,Y}(x,y).\n",
    "\\end{equation}\n",
    "\n",
    "- We require valid joint PDFs to be nonnegative and integrate to 1:\n",
    "\n",
    "\\begin{equation}\n",
    "f_{X,Y}(x,y) \\geq 0,\\ \\text{and}\\ \\int_{-\\infty}^{\\infty} \\int_{-\\infty}^{\\infty} f_{X,Y}(x,y)dxdy = 1.\n",
    "\\end{equation}\n",
    "\n",
    "- For a general set $A \\subseteq \\mathbb{R^2}$,\n",
    "\n",
    "\\begin{equation}\n",
    "P((X,Y) \\in A) = \\iint_A f_{X,Y}(x,y)dxdy.\n",
    "\\end{equation}\n",
    "\n",
    "#### Marginal PDF\n",
    "\n",
    "For continuous r.v.s $X$ and $Y$ with joint PDF $f_{X,Y}$, the *marginal PDF* of $X$ is \n",
    "\n",
    "\\begin{equation}\n",
    "f_X(x) = \\int_{-\\infty}^{\\infty}f_{X,Y}(x,y)dy.\n",
    "\\end{equation}\n",
    "\n",
    "#### Conditional PDF\n",
    "\n",
    "For continous r.v.s $X$ and $Y$ with joint PDF $f_{X,Y}$, the *conditional PDF* of $Y$ given $X=x$ is\n",
    "\n",
    "\\begin{equation}\n",
    "f_{Y|X}(y|x) = \\frac{f_{X,Y}(x,y)} {f_X(x)}.\n",
    "\\end{equation}\n",
    "\n",
    "- For continuous r.v.s $X$ and $Y$,\n",
    "\n",
    "\\begin{equation}\n",
    "f_{Y|X}(y|x) = \\frac{f_{X|Y}(x|y)f_Y(y)} {f_X(x)}, \\\\\n",
    "f_X(x) = \\int_{-\\infty}^{\\infty} f_{X|Y}(x|y)f_Y(y)dy.\n",
    "\\end{equation}\n",
    "\n",
    "#### Independence of continuous r.v.s\n",
    "\n",
    "Random variable $X$ and $Y$ are *independent* if for all $x$ and $y$,\n",
    "\n",
    "\\begin{equation}\n",
    "F_{X,Y}(x,y) = F_X(x)F_Y(y).\n",
    "\\end{equation}\n",
    "\n",
    "If $X$ and $Y$ are continuous with joint PDF $f_{X,Y}$, this is equivalent to the condition\n",
    "\n",
    "\\begin{equation}\n",
    "f_{X,Y}(x,y) = f_X(x)f_Y(y)\n",
    "\\end{equation}\n",
    "\n",
    "for all $x$ and $y$, and it is also equivalent to the condition\n",
    "\n",
    "\\begin{equation}\n",
    "f_{Y|X}(y|x) = f_Y(y)\n",
    "\\end{equation}\n",
    "\n",
    "for all $y$ and all $x$ such that $f_X(x) > 0$.\n",
    "\n",
    "\n",
    "### 2D LOTUS\n",
    "\n",
    "Let $g$ be a function from $\\mathbb{R^2}$ to $\\mathbb{R}$. If $X$ and $Y$ are discrete, then\n",
    "\n",
    "\\begin{equation}\n",
    "E(g(X,Y)) = \\sum_x \\sum_y g(x,y)P(X=x, Y=y).\n",
    "\\end{equation}\n",
    "\n",
    "If $X$ and $Y$ are continuous with joint PDF $f_{X,Y}$, then\n",
    "\n",
    "\\begin{equation}\n",
    "E(g(X, Y)) = \\int_{-\\infty}^{\\infty} \\int_{-\\infty}^{\\infty} g(x,y)f_{X,Y}(x,y)dxdy.\n",
    "\\end{equation}\n",
    "\n",
    "\n",
    "### Covariance\n",
    "\n",
    "The *covariance* between r.v.s $X$ and $Y$ is\n",
    "\n",
    "\\begin{equation}\n",
    "Cov(X,Y) = E((X - EX)(Y - EY)).\n",
    "\\end{equation}\n",
    "\n",
    "Multiplying this out and using linearity, we have an equivalent expression:\n",
    "\n",
    "\\begin{equation}\n",
    "Cov(X,Y) = E(XY) - E(X)E(Y).\n",
    "\\end{equation}\n",
    "\n",
    "- If $X$ and $Y$ are independent, then they are uncorrelated.\n",
    "- Covariance has the following key properties.\n",
    "    1. $Cov(X,X) = Var(X)$.\n",
    "    2. $Cov(X,Y) = Cov(Y,X)$.\n",
    "    3. $Cov(X,c) = 0$ for any constant $c$.\n",
    "    4. $Cov(aX,Y) = aCov(X,Y)$ for any constant $a$.\n",
    "    5. $Cov(X+Y, Z) = Cov(X,Z) + Cov(Y,Z)$.\n",
    "    6. $Cov(X+Y, Z+W) = Cov(X,Z) + Cov(X,W) + Cov(Y,Z) + Cov(Y,W)$.\n",
    "    7. $Var(X+Y) = Var(X) + Var(Y) + 2Cov(X,Y)$. For $n$ r.v.s $X_1, ..., X_n$,\n",
    "    \n",
    "\\begin{equation}\n",
    "Var(X_1+...+X_n) = Var(X_1) + ... + Var(X_n) + 2\\sum_{i < j}Cov(X_i, X_j).\n",
    "\\end{equation}\n",
    "\n",
    "\n",
    "### Correlation\n",
    "\n",
    "The *correlation* between r.v.s $X$ and $Y$ is\n",
    "\n",
    "\\begin{equation}\n",
    "Corr(X,Y) = \\frac{Cov(X,Y)} {\\sqrt{Var(X)Var(Y)}}.\n",
    "\\end{equation}\n",
    "\n",
    "(This is undefined in the degenerate cases $Var(X) = 0$ or $Var(Y) = 0$.)\n",
    "\n",
    "#### Correlation bounds\n",
    "\n",
    "For any r.v.s $X$ and $Y$,\n",
    "\n",
    "\\begin{equation}\n",
    "-1 \\leq Corr(X,Y) \\leq 1.\n",
    "\\end{equation}\n",
    "\n",
    "### Multinomial distribution\n",
    "\n",
    "Each of $n$ objects is independently placed into one of $k$ categories. An object is placed into category $j$ with probability $p_j$, where the $p_j$ are nonnegative and $\\sum_{j=1}^k p_j = 1$. Let $X_1$ be the number of objects in category 1, $X_2$ the number of objects in category 2, etc., so that $X_1 + ... + X_k = n$. Then $\\boldsymbol{X} = (X_1, ..., X_k)$ is said to have the *Multinomial distribution* with parameters $n$ and $\\boldsymbol{p} = (p_1, ..., p_k)$. We write this as $\\boldsymbol{X} \\sim Mult_k(n,\\boldsymbol{p})$.\n",
    "\n",
    "- We call $X$ a *random vector* because it is a vector of random variables.\n",
    "\n",
    "If $\\boldsymbol{X} \\sim Mult_k(n, \\boldsymbol{p})$, then the joint PMF of $\\boldsymbol{X}$ is\n",
    "\n",
    "\\begin{equation}\n",
    "P(X_1 = n_1, ..., X_k = n_k) = \\frac{n!} {n_1!n_2!...n_k!} \\cdot p_1^{n_1}p_2^{n_2}...p_k^{n_k},\n",
    "\\end{equation}\n",
    "\n",
    "for $n_1, ..., n_k$ satisfying $n_1 + ... + n_k = n$.\n",
    "\n",
    "#### Multinomial marginals\n",
    "\n",
    "If $\\boldsymbol{X} \\sim Mult_k(n,\\boldsymbol{p})$, then $X_j \\sim Bin(n, p_j)$.\n",
    "\n",
    "#### Multinomial lumping\n",
    "\n",
    "If $\\boldsymbol{X} \\sim Mult_k(n,\\boldsymbol{p})$, then for any distinct $i$ and $j$, $X_i + X_j \\sim Bin(n, p_i + p_j)$. The random vector of counts obtained from merging categories $i$ and $j$ is still Multinomial.\n",
    "\n",
    "#### Multinomial conditioning\n",
    "\n",
    "If $\\boldsymbol{X} \\sim Mult_k(n,\\boldsymbol{p})$, then\n",
    "\n",
    "\\begin{equation}\n",
    "(X_2, ..., X_k)|X_1 = n_1 \\sim Mult_{k-1}(n-n_1, (p_2', ..., p_k')),\n",
    "\\end{equation}\n",
    "\n",
    "where $p_j' = p_j / (p_2 + ... + p_k)$.\n",
    "\n",
    "#### Covariance in a Multinomial\n",
    "\n",
    "Let $(X_1, ..., X_k) \\sim Mult_k(n, \\boldsymbol{p})$, where $\\boldsymbol{p} = (p_1, ..., p_k)$. For $i \\neq j$, $Cov(X_i, X_j) = -np_ip_j$.\n",
    "\n",
    "\n",
    "### Multivariate Normal distribution\n",
    "\n",
    "A random vector $\\boldsymbol{X} = (X_1, ..., X_k)$ is said to have a *Multivariate Normal* (MVN) distribution if every linear combination of the $X_j$ has a Normal distribution. That is, we require\n",
    "\n",
    "\\begin{equation}\n",
    "t_1X_1 + ... + t_kX_k\n",
    "\\end{equation}\n",
    "\n",
    "to have a Normal distribution for any choice of constants $t_1, ..., t_k$. If $t_1X_1 + ... + t_kX_k$ is a constant (such as when all $t_i = 0$), we consider it to have a Normal distribution, albeit a degenerate Normal with variance $0$. An important special case is $k=2$; this distribution is called the *Bivariate Normal* (BVN).\n",
    "\n",
    "- If $(X_1, X_2, X_3)$ is Multivariate Normal, then so is the subvector $(X_1, X_2)$.\n",
    "- If $\\boldsymbol{X} = (X_1, ..., X_n)$ and $\\boldsymbol{Y} = (Y_1, ..., Y_m)$ are MVN vectors with $\\boldsymbol{X}$ independent of $\\boldsymbol{Y}$, then the concatenated random vector $\\boldsymbol{W} = (X_1, ..., X_n, Y_1, ..., Y_m)$ is Multivariate Normal.\n",
    "\n",
    "The parameters of an MVN random vector $(X_1, ..., X_k)$ are as follows:\n",
    "\n",
    "- the *mean vector* $(\\mu_1, ..., \\mu_k)$, where $E(X_j) = \\mu_j$;\n",
    "- the *covariance matrix*, which is the $k \\times k$ matrix of covariances between components, arranged so that the row $i$, column $j$ entry is $Cov(X_i, X_j)$.\n",
    "\n",
    "### Joint MGF\n",
    "\n",
    "The *joint MGF* of a random vector $\\boldsymbol{X} = (X_1, ..., X_k)$ is the function which takes a vector of constants $\\boldsymbol{t} = (t_1, ..., t_k)$ and returns\n",
    "\n",
    "\\begin{equation}\n",
    "M(\\boldsymbol{t}) = E(e^{\\boldsymbol{t}'\\boldsymbol{X}}) = E(e^{t_1X_1 + ... + t_kX_k}).\n",
    "\\end{equation}\n",
    "\n",
    "We require this expectation to be finite in a box around the origin in $\\mathbb{R^k}$; otherwise we say the joint MGF does not exist.\n",
    "\n",
    "#### Independence and zero correlation for MVN\n",
    "\n",
    "Within an MVN random vector, uncorrelated implies independent. That is, if $\\boldsymbol{X} \\sim MVN$ can be written as $\\boldsymbol{X} = (\\boldsymbol{X_1}, \\boldsymbol{X_2})$, where $\\boldsymbol{X_1}$ and $\\boldsymbol{X_2}$ are subvectors, and every component of $\\boldsymbol{X_1}$ is uncorrelated with every component of $\\boldsymbol{X_2}$, then $\\boldsymbol{X_1}$ and $\\boldsymbol{X_2}$ are independent.\n",
    "\n",
    "\n",
    "## Python examples"
   ]
  },
  {
   "cell_type": "code",
   "execution_count": 1,
   "metadata": {},
   "outputs": [],
   "source": [
    "import numpy as np\n",
    "import matplotlib.pyplot as plt\n",
    "from scipy.stats import multinomial, multivariate_normal, norm, cauchy\n",
    "from numpy.random import choice\n",
    "\n",
    "%matplotlib inline\n",
    "%load_ext autoreload\n",
    "%autoreload 2"
   ]
  },
  {
   "cell_type": "markdown",
   "metadata": {},
   "source": [
    "### Multinomial"
   ]
  },
  {
   "cell_type": "code",
   "execution_count": 2,
   "metadata": {},
   "outputs": [
    {
     "name": "stdout",
     "output_type": "stream",
     "text": [
      "0.0411522633745\n",
      "[[1 2 2]\n",
      " [1 0 4]\n",
      " [1 2 2]\n",
      " [2 1 2]\n",
      " [1 1 3]\n",
      " [2 1 2]\n",
      " [3 1 1]\n",
      " [2 2 1]\n",
      " [2 0 3]\n",
      " [1 2 2]]\n"
     ]
    }
   ],
   "source": [
    "X = [2, 0, 3]\n",
    "n = 5\n",
    "p = [1/3., 1/3., 1/3.,]\n",
    "\n",
    "print(multinomial.pmf(X, n=n, p=p))\n",
    "print(multinomial.rvs(n, p, size=10))"
   ]
  },
  {
   "cell_type": "markdown",
   "metadata": {},
   "source": [
    "### Multivariate Normal"
   ]
  },
  {
   "cell_type": "code",
   "execution_count": 3,
   "metadata": {},
   "outputs": [
    {
     "name": "stdout",
     "output_type": "stream",
     "text": [
      "(1000, 2)\n",
      "[[-0.67354662 -0.9085873 ]\n",
      " [-0.82317822  0.62631394]\n",
      " [-0.76007955 -0.20745013]\n",
      " [ 0.85915278  1.15797564]\n",
      " [ 0.04223     0.59171189]\n",
      " [-0.06032504  0.46274759]\n",
      " [ 0.05580674  0.96070445]\n",
      " [ 0.06783899  0.6032336 ]\n",
      " [ 0.45754039  0.49053156]\n",
      " [ 0.6637129   1.39306383]]\n"
     ]
    }
   ],
   "source": [
    "meanvector = np.array([0, 0], dtype=np.float)\n",
    "rho = 0.7\n",
    "covmatrix = np.array([[1, rho], [rho, 1]], dtype=np.float)\n",
    "\n",
    "# Generate 1000 independent Bivariate Normal pairs (Z, W)\n",
    "R = multivariate_normal.rvs(meanvector, covmatrix, size=1000)\n",
    "print(R.shape)\n",
    "print(R[:10])"
   ]
  },
  {
   "cell_type": "code",
   "execution_count": 4,
   "metadata": {
    "scrolled": false
   },
   "outputs": [
    {
     "data": {
      "text/plain": [
       "<matplotlib.text.Text at 0x1084bb750>"
      ]
     },
     "execution_count": 4,
     "metadata": {},
     "output_type": "execute_result"
    },
    {
     "data": {
      "image/png": "[encoded data removed]",
      "text/plain": [
       "<matplotlib.figure.Figure at 0x108488150>"
      ]
     },
     "metadata": {},
     "output_type": "display_data"
    }
   ],
   "source": [
    "plt.figure(figsize=(8, 8))\n",
    "_ = plt.scatter(R[:, 0], R[:, 1], marker='o')\n",
    "plt.xlabel('Z')\n",
    "plt.ylabel('W')"
   ]
  },
  {
   "cell_type": "code",
   "execution_count": 5,
   "metadata": {},
   "outputs": [
    {
     "name": "stdout",
     "output_type": "stream",
     "text": [
      "[[ 1.06498911  0.79198479]\n",
      " [ 0.79198479  1.06310824]]\n"
     ]
    }
   ],
   "source": [
    "# Estimate the covariance of Z and W\n",
    "print(np.cov(R, rowvar=False))"
   ]
  },
  {
   "cell_type": "code",
   "execution_count": 6,
   "metadata": {
    "collapsed": true
   },
   "outputs": [],
   "source": [
    "# Another approach to the BVN generation problem:\n",
    "rho = 0.7\n",
    "tau = np.sqrt(1 - rho**2)\n",
    "X = norm.rvs(size=1000)\n",
    "Y = norm.rvs(size=1000)\n",
    "Z = X\n",
    "W = rho*X + tau*Y"
   ]
  },
  {
   "cell_type": "code",
   "execution_count": 7,
   "metadata": {},
   "outputs": [
    {
     "data": {
      "text/plain": [
       "(array([-0.11965599, -0.11223381, -0.07306644,  0.86672459,  0.50339034,\n",
       "         0.41477746,  1.24142361,  1.2084898 , -0.21261757,  0.17546476]),\n",
       " array([-0.69004643, -0.19179338, -0.04465325,  1.08424702,  0.08491325,\n",
       "        -0.14410867,  1.81725001, -0.26851019, -0.35665741,  0.12377855]))"
      ]
     },
     "execution_count": 7,
     "metadata": {},
     "output_type": "execute_result"
    }
   ],
   "source": [
    "Z[:10], W[:10]"
   ]
  },
  {
   "cell_type": "code",
   "execution_count": 8,
   "metadata": {
    "scrolled": false
   },
   "outputs": [
    {
     "data": {
      "text/plain": [
       "<matplotlib.text.Text at 0x10870bad0>"
      ]
     },
     "execution_count": 8,
     "metadata": {},
     "output_type": "execute_result"
    },
    {
     "data": {
      "image/png": "[encoded data removed]",
      "text/plain": [
       "<matplotlib.figure.Figure at 0x108488810>"
      ]
     },
     "metadata": {},
     "output_type": "display_data"
    }
   ],
   "source": [
    "plt.figure(figsize=(8, 8))\n",
    "_ = plt.scatter(Z, W, marker='o')\n",
    "plt.xlabel('Z')\n",
    "plt.ylabel('W')"
   ]
  },
  {
   "cell_type": "code",
   "execution_count": 9,
   "metadata": {},
   "outputs": [
    {
     "name": "stdout",
     "output_type": "stream",
     "text": [
      "[[ 1.02382158  0.74742184]\n",
      " [ 0.74742184  1.09805936]]\n"
     ]
    }
   ],
   "source": [
    "# Estimate the covariance of Z and W\n",
    "print(np.cov([Z, W], rowvar=True))"
   ]
  },
  {
   "cell_type": "markdown",
   "metadata": {},
   "source": [
    "### Cauchy"
   ]
  },
  {
   "cell_type": "code",
   "execution_count": 10,
   "metadata": {},
   "outputs": [
    {
     "name": "stdout",
     "output_type": "stream",
     "text": [
      "0.318309886184\n"
     ]
    }
   ],
   "source": [
    "print(cauchy.pdf(0))"
   ]
  },
  {
   "cell_type": "code",
   "execution_count": 11,
   "metadata": {},
   "outputs": [
    {
     "data": {
      "text/plain": [
       "[<matplotlib.lines.Line2D at 0x108a6cf10>]"
      ]
     },
     "execution_count": 11,
     "metadata": {},
     "output_type": "execute_result"
    },
    {
     "data": {
      "image/png": "[encoded data removed]",
      "text/plain": [
       "<matplotlib.figure.Figure at 0x1045eef50>"
      ]
     },
     "metadata": {},
     "output_type": "display_data"
    }
   ],
   "source": [
    "X = np.linspace(-4, 4, 1000)\n",
    "plt.plot(X, cauchy.pdf(X))"
   ]
  },
  {
   "cell_type": "code",
   "execution_count": 12,
   "metadata": {},
   "outputs": [
    {
     "data": {
      "image/png": "[encoded data removed]",
      "text/plain": [
       "<matplotlib.figure.Figure at 0x108a950d0>"
      ]
     },
     "metadata": {},
     "output_type": "display_data"
    }
   ],
   "source": [
    "plt.figure(figsize=(8,8))\n",
    "_ = plt.hist(cauchy.rvs(size=1000), bins=100)#, range=[-4, 4])\n",
    "# Heavy tails observed:"
   ]
  }
 ],
 "metadata": {
  "kernelspec": {
   "display_name": "Python 2",
   "language": "python",
   "name": "python2"
  },
  "language_info": {
   "codemirror_mode": {
    "name": "ipython",
    "version": 2
   },
   "file_extension": ".py",
   "mimetype": "text/x-python",
   "name": "python",
   "nbconvert_exporter": "python",
   "pygments_lexer": "ipython2",
   "version": "2.7.12"
  }
 },
 "nbformat": 4,
 "nbformat_minor": 2
}
