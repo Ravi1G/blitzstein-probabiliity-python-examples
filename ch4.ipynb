{
 "cells": [
  {
   "cell_type": "markdown",
   "metadata": {},
   "source": [
    "# 4. Expectation"
   ]
  },
  {
   "cell_type": "markdown",
   "metadata": {},
   "source": [
    "## Brief summary\n",
    "\n",
    "### Expectation of a discrete r.v.\n",
    "\n",
    "The *expected value* (also called the *expectation* or *mean*) of a discrete r.v. $X$ whose distinct possible values are $x_1, x_2, ...$ is defined by\n",
    "\n",
    "\\begin{equation}\n",
    "E(X) = \\sum_{j=1}^\\infty x_jP(X=x_j).\n",
    "\\end{equation}\n",
    "\n",
    "If the support is finite, then this is replaced by a finite sum. We can also write\n",
    "\n",
    "\\begin{equation}\n",
    "E(X) = \\sum_x x(X=x)\n",
    "\\end{equation}\n",
    "\n",
    "where the sum is over the support of $X$.\n",
    "\n",
    "An equivalent \"ungrouped\" way of calculating expectation is \n",
    "\n",
    "\\begin{equation}\n",
    "E(X) = \\sum_s X(s)P(\\{s\\})\n",
    "\\end{equation}\n",
    "\n",
    "### Linearity of expectation\n",
    "\n",
    "For any r.v.s $X$, $Y$ and any constant $c$,\n",
    "\n",
    "\\begin{equation}\n",
    "E(X+Y) = E(X) + E(Y) \\\\\n",
    "E(cX) = cE(X)\n",
    "\\end{equation}\n",
    "\n",
    "### Geometric distribution\n",
    "\n",
    "Consider a sequence of independent Bernoulli trials, each with the same success probability $p \\in (0,1)$, with trials performed until a success occurs. Let $X$ be the number of *failures* before the first successful trial. Then $X$ has the *Geometric distribution* with parameter $p$: $X \\sim Geom(p)$.\n",
    "\n",
    "If $X \\sim Geom(p)$, then the PMF of $X$ is \n",
    "\n",
    "\\begin{equation}\n",
    "P(X=k) = q^kp\n",
    "\\end{equation}\n",
    "\n",
    "for $k = 0, 1, 2, ...$, where $q = 1 - p$.\n",
    "\n",
    "#### First Success distribution\n",
    "\n",
    "Let $Y$ be the number of *trials* until the first successful trial, including the success. Then $Y$ has the *First Success distribution* with parameter $p$: $Y \\sim FS(p)$.\n",
    "\n",
    "If $Y \\sim FS(p)$, then $Y - 1 \\sim Geom(p)$ and the PMF of $Y$ is\n",
    "\n",
    "\\begin{equation}\n",
    "P(Y=k) = q^{k-1}p\n",
    "\\end{equation}\n",
    "\n",
    "for $k = 1, 2, 3, ...$, where $q = 1 - p$.\n",
    "\n",
    "### Negative binomial distribution\n",
    "\n",
    "In a sequence of independent Bernoulli trials with success probability $p$, if $X$ is the number of *failures* before the $r$th success, then $X$ is said to have the *Negative Binomial distribution* with parameters $r$ and $p$: $X \\sim NBin(r,p)$.\n",
    "\n",
    "If $X \\sim NBin(r,p)$, then the PMF of $X$ is \n",
    "\n",
    "\\begin{equation}\n",
    "P(X=n) = {{n+r-1}\\choose{r-1}}p^rq^n\n",
    "\\end{equation}\n",
    "\n",
    "for $n = 0, 1, 2, ...$, where $q = 1 - p$.\n",
    "\n",
    "### Indicator r.v. properties\n",
    "\n",
    "Let $A$ and $B$ the events. Then the following properties hold.\n",
    "\n",
    "1. $(I_A)^k = I_A$ for any positive integer $k$.\n",
    "2. $I_{A^c} = 1 - I_A$.\n",
    "3. $I_{A \\cap B} = I_AI_B$.\n",
    "4. $I_{A \\cup B} = I_A + I_B - I_AI_B$.\n",
    "\n",
    "### Fundamental bridge between probability and expectation\n",
    "\n",
    "There is a one-to-one correspondence between events and indicator r.v.s, and the probability of an event $A$ is the expected value of its indicator r.v. $I_A$:\n",
    "\n",
    "\\begin{equation}\n",
    "P(A) = E(I_A).\n",
    "\\end{equation}\n",
    "\n",
    "### The Law of the unconscious statistician (LOTUS)\n",
    "\n",
    "If $X$ is a discrete r.v. and $g$ is a function from $\\mathbb{R}$ to $\\mathbb{R}$, then\n",
    "\n",
    "\\begin{equation}\n",
    "E(g(X)) = \\sum_x g(x)P(X=x),\n",
    "\\end{equation}\n",
    "\n",
    "where the sum is taken over all possible values of $X$.\n",
    "\n",
    "\n",
    "### Variance and standard deviation\n",
    "\n",
    "The *variance* of an r.v. $X$ is \n",
    "\n",
    "\\begin{equation}\n",
    "Var(X) = E(X - EX)^2.\n",
    "\\end{equation}\n",
    "\n",
    "The square root of the variance is called the *standard deviation* (SD):\n",
    "\n",
    "\\begin{equation}\n",
    "SD(X) = \\sqrt{Var(X)}.\n",
    "\\end{equation}\n",
    "\n",
    "#### Another formula for variance\n",
    "\n",
    "For any r.v. $X$,\n",
    "\n",
    "\\begin{equation}\n",
    "Var(X) = E(X^2) - (EX)^2\n",
    "\\end{equation}\n",
    "\n",
    "### Poisson distribution\n",
    "\n",
    "An r.v. $X$ has the *Poisson distribution* with parameter $\\lambda$ if the PMF of $X$ is\n",
    "\n",
    "\\begin{equation}\n",
    "P(X=k) = \\frac{e^{-\\lambda}\\lambda^k} {k!},\\ k = 0, 1, 2, ...\n",
    "\\end{equation}\n",
    "\n",
    "We write this as $X \\sim Pois(\\lambda)$.\n",
    "\n",
    "The Poisson distribution is often used in situations where we are counting the number of successes in a particular region or interval of time, and there are a large number of trials, each with a small probability of success.\n",
    "\n",
    "#### Poisson approximation to Binomial\n",
    "\n",
    "If $X \\sim Bin(n,p)$ and we let $n \\to \\infty$ and $p \\to 0$ such that $\\lambda = np$ remains fixed, then the PMF of $X$ converges to the $Pois(\\lambda)$ PMF. More generally, the same conclusion holds if $n \\to \\infty$ and $p \\to 0$ in such a way that $np$ converges to a constant $\\lambda$.\n",
    "\n",
    "\n",
    "## Python examples"
   ]
  },
  {
   "cell_type": "code",
   "execution_count": 1,
   "metadata": {},
   "outputs": [],
   "source": [
    "import numpy as np\n",
    "import matplotlib.pyplot as plt\n",
    "from scipy.stats import geom, nbinom, poisson\n",
    "from numpy.random import choice\n",
    "from numpy.random import permutation\n",
    "\n",
    "%matplotlib inline\n",
    "%load_ext autoreload\n",
    "%autoreload 2"
   ]
  },
  {
   "cell_type": "markdown",
   "metadata": {},
   "source": [
    "### Geometric distribution\n",
    "\n",
    "\\begin{equation}\n",
    "P(X=k) = q^kp\n",
    "\\end{equation}"
   ]
  },
  {
   "cell_type": "code",
   "execution_count": 2,
   "metadata": {},
   "outputs": [
    {
     "name": "stdout",
     "output_type": "stream",
     "text": [
      "[ 0.5        0.25       0.125      0.0625     0.03125    0.015625\n",
      "  0.0078125]\n",
      "[ 0.5        0.75       0.875      0.9375     0.96875    0.984375\n",
      "  0.9921875]\n",
      "[2 3 1 1 1 1 3 1 3 1 4 1 2 1 1 4 2 2 4 1 2 4 7 2 1 2 2 1 7 1 1 1 1 1 1 1 4\n",
      " 1 1 2 1 1 1 3 2 3 1 1 1 1 2 1 3 1 3 5 1 1 3 3 2 2 1 1 1 3 1 4 1 1 1 1 2 1\n",
      " 2 2 2 3 1 3 2 1 1 1 1 1 1 1 1 2 1 2 4 2 2 3 3 1 2 1]\n"
     ]
    }
   ],
   "source": [
    "p = 0.5\n",
    "X = np.arange(7)\n",
    "print(geom.pmf(X+1, p))\n",
    "print(geom.cdf(X+1, p))\n",
    "print(geom.rvs(p, size=100))"
   ]
  },
  {
   "cell_type": "code",
   "execution_count": 3,
   "metadata": {},
   "outputs": [
    {
     "data": {
      "text/plain": [
       "<Container object of 7 artists>"
      ]
     },
     "execution_count": 3,
     "metadata": {},
     "output_type": "execute_result"
    },
    {
     "data": {
      "image/png": "[encoded data removed]",
      "text/plain": [
       "<matplotlib.figure.Figure at 0x107c88450>"
      ]
     },
     "metadata": {},
     "output_type": "display_data"
    }
   ],
   "source": [
    "fig, axes = plt.subplots(2, 1, figsize=(10, 10))\n",
    "axes[0].bar(X, geom.pmf(X+1, p))\n",
    "axes[1].bar(X, geom.cdf(X+1, p))"
   ]
  },
  {
   "cell_type": "markdown",
   "metadata": {},
   "source": [
    "### Negative binomial distribution\n",
    "\n",
    "\\begin{equation}\n",
    "P(X=n) = {{n+r-1}\\choose{r-1}}p^rq^n\n",
    "\\end{equation}"
   ]
  },
  {
   "cell_type": "code",
   "execution_count": 4,
   "metadata": {},
   "outputs": [
    {
     "name": "stdout",
     "output_type": "stream",
     "text": [
      "[ 0.03125     0.078125    0.1171875   0.13671875  0.13671875  0.12304687\n",
      "  0.10253906]\n",
      "[ 0.03125     0.109375    0.2265625   0.36328125  0.5         0.62304687\n",
      "  0.72558594]\n"
     ]
    }
   ],
   "source": [
    "r, p = 5, 0.5\n",
    "X = np.arange(7)\n",
    "print(nbinom.pmf(X, r, p))\n",
    "print(nbinom.cdf(X, r, p))"
   ]
  },
  {
   "cell_type": "markdown",
   "metadata": {},
   "source": [
    "### Poisson distribution\n",
    "\n",
    "\\begin{equation}\n",
    "P(X=k) = \\frac{e^{-\\lambda}\\lambda^k} {k!},\\ k = 0, 1, 2, ...\n",
    "\\end{equation}"
   ]
  },
  {
   "cell_type": "code",
   "execution_count": 5,
   "metadata": {},
   "outputs": [
    {
     "name": "stdout",
     "output_type": "stream",
     "text": [
      "[ 0.13533528  0.27067057  0.27067057  0.18044704  0.09022352  0.03608941\n",
      "  0.0120298 ]\n",
      "[ 0.13533528  0.40600585  0.67667642  0.85712346  0.94734698  0.98343639\n",
      "  0.99546619]\n"
     ]
    }
   ],
   "source": [
    "l = 2\n",
    "X = np.arange(7)\n",
    "print(poisson.pmf(X, l))\n",
    "print(poisson.cdf(X, l))"
   ]
  },
  {
   "cell_type": "code",
   "execution_count": 6,
   "metadata": {},
   "outputs": [
    {
     "data": {
      "text/plain": [
       "<Container object of 10 artists>"
      ]
     },
     "execution_count": 6,
     "metadata": {},
     "output_type": "execute_result"
    },
    {
     "data": {
      "image/png": "[encoded data removed]",
      "text/plain": [
       "<matplotlib.figure.Figure at 0x107f53610>"
      ]
     },
     "metadata": {},
     "output_type": "display_data"
    }
   ],
   "source": [
    "fig, axes = plt.subplots(2, 2, figsize=(10, 10))\n",
    "X = np.arange(7)\n",
    "l = 2\n",
    "axes[0, 0].bar(X, poisson.pmf(X, l))\n",
    "axes[0, 1].bar(X, poisson.cdf(X, l))\n",
    "X = np.arange(10)\n",
    "l = 5\n",
    "axes[1, 0].bar(X, poisson.pmf(X, l))\n",
    "axes[1, 1].bar(X, poisson.cdf(X, l))"
   ]
  },
  {
   "cell_type": "markdown",
   "metadata": {},
   "source": [
    "### Matching simulation"
   ]
  },
  {
   "cell_type": "code",
   "execution_count": 7,
   "metadata": {},
   "outputs": [
    {
     "name": "stdout",
     "output_type": "stream",
     "text": [
      "1.0096\n"
     ]
    }
   ],
   "source": [
    "n = 100\n",
    "num_trials = 10**4\n",
    "results = []\n",
    "for i in range(num_trials):\n",
    "    results.append(np.sum(permutation(n) == np.arange(n)))\n",
    "print(np.mean(results))"
   ]
  },
  {
   "cell_type": "markdown",
   "metadata": {},
   "source": [
    "### Distinct birthdays simulation"
   ]
  },
  {
   "cell_type": "code",
   "execution_count": 8,
   "metadata": {},
   "outputs": [
    {
     "name": "stdout",
     "output_type": "stream",
     "text": [
      "19.4779\n",
      "19.4879102391\n"
     ]
    }
   ],
   "source": [
    "k = 20\n",
    "num_trials = 10**4\n",
    "results = []\n",
    "for i in range(num_trials):\n",
    "    bdays =np.random.choice(np.arange(365), size=k, replace=True)\n",
    "    results.append(len(np.unique(bdays)))\n",
    "print(np.mean(results))\n",
    "print(365*(1-(364/365.)**k))"
   ]
  }
 ],
 "metadata": {
  "kernelspec": {
   "display_name": "Python 2",
   "language": "python",
   "name": "python2"
  },
  "language_info": {
   "codemirror_mode": {
    "name": "ipython",
    "version": 2
   },
   "file_extension": ".py",
   "mimetype": "text/x-python",
   "name": "python",
   "nbconvert_exporter": "python",
   "pygments_lexer": "ipython2",
   "version": "2.7.12"
  }
 },
 "nbformat": 4,
 "nbformat_minor": 2
}
